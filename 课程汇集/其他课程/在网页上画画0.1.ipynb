{
 "cells": [
  {
   "cell_type": "markdown",
   "metadata": {},
   "source": [
    "# 海龟画画"
   ]
  },
  {
   "cell_type": "markdown",
   "metadata": {},
   "source": [
    "课程编写：谢作如"
   ]
  },
  {
   "cell_type": "markdown",
   "metadata": {},
   "source": [
    "这是一个基于jupyter的海龟画画课程"
   ]
  },
  {
   "cell_type": "markdown",
   "metadata": {},
   "source": [
    "使用了一个ipyturtle库，jupyter的插件。\n",
    "\n",
    "https://github.com/gkvoelkl/ipython-turtle-widget"
   ]
  },
  {
   "cell_type": "markdown",
   "metadata": {},
   "source": [
    "安装方法：\n",
    "\n",
    "pip install ipyturtle\n",
    "jupyter nbextension enable --py --sys-prefix ipyturtle\n",
    "\n",
    "如果pip不能安装，可以试试pip3。"
   ]
  },
  {
   "cell_type": "markdown",
   "metadata": {},
   "source": [
    "好了，开始画图吧。\n",
    "\n",
    "## 准备工作\n",
    "\n",
    "首先是导入库，然后显示出来，看一看，是不是出现图片了？"
   ]
  },
  {
   "cell_type": "code",
   "execution_count": null,
   "metadata": {
    "collapsed": true
   },
   "outputs": [],
   "source": [
    "from ipyturtle import Turtle\n",
    "t = Turtle()\n",
    "t"
   ]
  },
  {
   "cell_type": "markdown",
   "metadata": {},
   "source": [
    "如果觉得画布太大，那就设定画布大小，小一点。试一试。"
   ]
  },
  {
   "cell_type": "code",
   "execution_count": null,
   "metadata": {
    "collapsed": true
   },
   "outputs": [],
   "source": [
    "# 先关闭\n",
    "t.close()"
   ]
  },
  {
   "cell_type": "code",
   "execution_count": null,
   "metadata": {
    "collapsed": true
   },
   "outputs": [],
   "source": [
    "# 再画一个\n",
    "t = Turtle(fixed=False, width=100, height=100)\n",
    "t"
   ]
  },
  {
   "cell_type": "markdown",
   "metadata": {},
   "source": [
    "接下来要考一考大家：\n",
    "\n",
    "默认情况下，三角形指示牌的坐标在“0，0”的位置，运行下面的代码，t的坐标在哪里？"
   ]
  },
  {
   "cell_type": "code",
   "execution_count": null,
   "metadata": {
    "collapsed": true
   },
   "outputs": [],
   "source": [
    "t.back(20)\n",
    "t.forward(60)"
   ]
  },
  {
   "cell_type": "markdown",
   "metadata": {},
   "source": [
    "有没有发现，三角形指示牌移动了？我们输出坐标吧。"
   ]
  },
  {
   "cell_type": "code",
   "execution_count": null,
   "metadata": {
    "collapsed": true
   },
   "outputs": [],
   "source": [
    "t.position()"
   ]
  },
  {
   "cell_type": "markdown",
   "metadata": {},
   "source": [
    "解释一下，back表示后退，forward表示移动，括号中的数字单位是像素。因为后退了20，再前进60，实际上是40，所以坐标在“0.0, 40.0”。那么Turtle还支持哪些操作呢？\n",
    "\n",
    "- 移动：forward()，back()\n",
    "    表示前进多少步,后退多少步，括号里面表示像素。\n",
    "- 转弯：right(10)、left(20)\n",
    "    右转和左转，括号里面表示角度。\n",
    "- 收起画笔：penup()\n",
    "- 重新开始：reset()\n"
   ]
  },
  {
   "cell_type": "markdown",
   "metadata": {},
   "source": [
    "我们试一试吧，画一条线，长度是50像素的水平线。"
   ]
  },
  {
   "cell_type": "code",
   "execution_count": null,
   "metadata": {
    "collapsed": true
   },
   "outputs": [],
   "source": [
    "from ipyturtle import Turtle\n",
    "t = Turtle(fixed=False, width=200, height=200)\n",
    "t"
   ]
  },
  {
   "cell_type": "code",
   "execution_count": null,
   "metadata": {
    "collapsed": true
   },
   "outputs": [],
   "source": [
    "t.right(90)\n",
    "t.forward(50)"
   ]
  },
  {
   "cell_type": "markdown",
   "metadata": {},
   "source": [
    "** 总结一下：** 要先显示t，然后移动坐标，就能看到图案，不然看到的是最终结果。"
   ]
  },
  {
   "cell_type": "markdown",
   "metadata": {},
   "source": [
    "## 画出基本形状"
   ]
  },
  {
   "cell_type": "code",
   "execution_count": null,
   "metadata": {
    "collapsed": true
   },
   "outputs": [],
   "source": [
    "# 长度是100，高度是50的矩形\n",
    "from ipyturtle import Turtle\n",
    "t = Turtle()\n",
    "t\n"
   ]
  },
  {
   "cell_type": "code",
   "execution_count": null,
   "metadata": {
    "collapsed": true,
    "scrolled": true
   },
   "outputs": [],
   "source": [
    "#画出矩形\n",
    "t.forward(50)\n",
    "t.right(90)\n",
    "t.forward(100)\n",
    "t.right(90)\n",
    "t.forward(50)\n",
    "t.right(90)\n",
    "t.forward(100)\n"
   ]
  },
  {
   "cell_type": "markdown",
   "metadata": {},
   "source": [
    "看一下，是不是画出了矩形？"
   ]
  },
  {
   "cell_type": "code",
   "execution_count": null,
   "metadata": {
    "collapsed": true
   },
   "outputs": [],
   "source": [
    "#先清除原来的结果\n",
    "t\n",
    "t.reset()"
   ]
  },
  {
   "cell_type": "code",
   "execution_count": null,
   "metadata": {
    "collapsed": true
   },
   "outputs": [],
   "source": []
  },
  {
   "cell_type": "markdown",
   "metadata": {},
   "source": [
    "## 如何画三角形\n",
    "\n",
    "这个可是难题了。"
   ]
  },
  {
   "cell_type": "code",
   "execution_count": null,
   "metadata": {
    "collapsed": true
   },
   "outputs": [],
   "source": [
    "#画出三角形\n",
    "from ipyturtle import Turtle\n",
    "t = Turtle()\n",
    "t"
   ]
  },
  {
   "cell_type": "code",
   "execution_count": null,
   "metadata": {
    "collapsed": true
   },
   "outputs": [],
   "source": [
    "t.forward(100)\n",
    "t.right(120)\n",
    "t.forward(100)\n",
    "t.right(120)\n",
    "t.forward(100)\n",
    "t.right(120)"
   ]
  },
  {
   "cell_type": "markdown",
   "metadata": {},
   "source": [
    "说一下，这是什么原理？为什么这样画出来的就是一个三角形？\n",
    "\n",
    "那么，如何画出一个直角三角形呢？"
   ]
  },
  {
   "cell_type": "code",
   "execution_count": null,
   "metadata": {
    "collapsed": true
   },
   "outputs": [],
   "source": [
    "#画出有一个角是60度的直角三角形。\n",
    "t.reset()\n",
    "t.forward(100)\n",
    "t.right(90)\n",
    "t.forward(150)\n",
    "t.right(120)\n",
    "while t.position()[0]>0:\n",
    "    t.forward(1)\n",
    "t.right(150)\n",
    "t.forward(abs(t.position()[1]))"
   ]
  },
  {
   "cell_type": "markdown",
   "metadata": {},
   "source": [
    "解释一下代码：\n",
    "t.position()，表示坐标，这个数据类型是元组（tuple）。因为我们不知道这个边有多长，就用while循环，一直走到坐标x超过原点（0）为止，然后回到原位。\n",
    "\n",
    "其中，t.position()[0]是x坐标，t.position()[1]是y坐标。\n",
    "\n",
    "问题：abs(t.position()[1])表示什么？"
   ]
  },
  {
   "cell_type": "markdown",
   "metadata": {},
   "source": [
    "**知识链接**：while 后面跟着的是表达式，只要表达式成立，那么就一直循环。"
   ]
  },
  {
   "cell_type": "markdown",
   "metadata": {},
   "source": [
    "思考：能不能用勾股定理算出边长，然后回到原点？\n",
    "\n",
    "如：math.sqrt(100**2+150**2)。\n",
    "\n",
    "如果使用sqrt，需要导入math库。在头部要加上一句“import math”"
   ]
  },
  {
   "cell_type": "markdown",
   "metadata": {},
   "source": [
    "## 写个函数吧"
   ]
  },
  {
   "cell_type": "code",
   "execution_count": null,
   "metadata": {
    "collapsed": true
   },
   "outputs": [],
   "source": [
    "# 正方形\n",
    "def square(size):\n",
    "    for i in range(4):\n",
    "        t.forward(size)\n",
    "        t.right(90)"
   ]
  },
  {
   "cell_type": "code",
   "execution_count": null,
   "metadata": {
    "collapsed": true
   },
   "outputs": [],
   "source": [
    "t.reset()\n",
    "square(100)"
   ]
  },
  {
   "cell_type": "markdown",
   "metadata": {},
   "source": [
    "**知识链接1**：def square(size)表示一个自定义的函数，square是函数名，size是参数。函数类似一个程序代码的集合，调用起来比较方便。\n",
    "\n",
    "**知识链接2**：for i in range(4)表示循环4次，分别是0,1，2，3。即从0开始，不包括4。"
   ]
  },
  {
   "cell_type": "code",
   "execution_count": null,
   "metadata": {
    "collapsed": true
   },
   "outputs": [],
   "source": [
    "# 画个圆\n",
    "def circle():\n",
    "    for i in range(360):\n",
    "        t.forward(1)\n",
    "        t.right(1)\n"
   ]
  },
  {
   "cell_type": "code",
   "execution_count": null,
   "metadata": {
    "collapsed": true
   },
   "outputs": [],
   "source": [
    "t.reset()\n",
    "circle()"
   ]
  },
  {
   "cell_type": "code",
   "execution_count": null,
   "metadata": {
    "collapsed": true
   },
   "outputs": [],
   "source": [
    "# 画个正三角形\n",
    "def triangle():\n",
    "    for i in range(3):\n",
    "        t.forward(100)\n",
    "        t.right(120)\n",
    "t.reset()\n",
    "triangle()"
   ]
  },
  {
   "cell_type": "markdown",
   "metadata": {},
   "source": [
    "看这画圆的过程，是不是挺好玩？好了，这个海龟画画的简单教程结束了。"
   ]
  }
 ],
 "metadata": {
  "kernelspec": {
   "display_name": "Python 3",
   "language": "python",
   "name": "python3"
  },
  "language_info": {
   "codemirror_mode": {
    "name": "ipython",
    "version": 3
   },
   "file_extension": ".py",
   "mimetype": "text/x-python",
   "name": "python",
   "nbconvert_exporter": "python",
   "pygments_lexer": "ipython3",
   "version": "3.6.3"
  }
 },
 "nbformat": 4,
 "nbformat_minor": 2
}
