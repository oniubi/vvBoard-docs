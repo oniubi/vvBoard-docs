{
 "cells": [
  {
   "cell_type": "markdown",
   "metadata": {},
   "source": [
    "# 虚谷闪一闪\n",
    "\n",
    "让虚谷号自带的 LED(接在 13 号引脚,即 D13)闪烁，设置为亮1秒熄灭1秒\n",
    "\n",
    "采用数字输出的方式，使用xugu库的Pin类和时间模块进行，代码如下"
   ]
  },
  {
   "cell_type": "code",
   "execution_count": null,
   "metadata": {},
   "outputs": [],
   "source": [
    "import time # 导入 time 模块\n",
    "from xugu import Pin # 从 xugu 库中导入 Pin 类\n",
    "led = Pin(13, Pin.OUT) # 初始化 Pin 类\n",
    "# 等价的写法:led = Pin(“D13”, pin.OUT)\n",
    "while True:\n",
    "    # #用循环实现持续地开灯关灯,到达闪烁的效果\n",
    "    led.write_digital(1) # 点亮连接 13 号引脚的 LED 灯\n",
    "    time.sleep(1) # 持续 1 秒\n",
    "    led.write_digital(0) # 关闭 LED 灯\n",
    "    time.sleep(1) # 持续 1 秒"
   ]
  },
  {
   "cell_type": "markdown",
   "metadata": {},
   "source": [
    "让虚谷号自带的 LED(接在 13 号引脚,即 D13)闪烁，设置为亮2秒熄灭3秒\n",
    "\n",
    "使用xugu库的LED类和时间模块进行，代码如下"
   ]
  },
  {
   "cell_type": "code",
   "execution_count": null,
   "metadata": {},
   "outputs": [],
   "source": [
    "import time #导入time模块\n",
    "from xugu import LED #从xugu库中导入LED类\n",
    "led = LED(13) # 初始化LED类\n",
    "\n",
    "while True:   # 用循环实现持续地开灯关灯，到达闪烁的效果 \n",
    "    led.on()  # 点亮连接13号引脚的LED灯\n",
    "    time.sleep(2) # 持续2秒\n",
    "    led.off()  # 关闭LED灯\n",
    "    time.sleep(3)  # 持续3秒"
   ]
  }
 ],
 "metadata": {
  "kernelspec": {
   "display_name": "Python 3",
   "language": "python",
   "name": "python3"
  },
  "language_info": {
   "codemirror_mode": {
    "name": "ipython",
    "version": 3
   },
   "file_extension": ".py",
   "mimetype": "text/x-python",
   "name": "python",
   "nbconvert_exporter": "python",
   "pygments_lexer": "ipython3",
   "version": "3.5.2"
  }
 },
 "nbformat": 4,
 "nbformat_minor": 2
}
