{
 "cells": [
  {
   "cell_type": "markdown",
   "metadata": {},
   "source": [
    "# 舵机控制\n",
    "    控制舵机旋转的角度，调用Servo(pin_num)函数，pin_num 引脚标号,可以直接传入虚谷板上的引脚编号,例如 D3 或者 A5,也可以直接传入 13或者 19 这样的数字。还调用Servo. write_angle (value)函数，让舵机转动到指定角度,Value 指角度。每种舵机的最大转动角度不一样,需要参考舵机说明书\n",
    "    \n",
    "使用xugu 库中Servo 类，控制 D3 引脚上的舵机旋转"
   ]
  },
  {
   "cell_type": "code",
   "execution_count": null,
   "metadata": {},
   "outputs": [],
   "source": [
    "from xugu import Servo"
   ]
  },
  {
   "cell_type": "markdown",
   "metadata": {},
   "source": [
    "选择控制的引脚初始化并连接到舵机"
   ]
  },
  {
   "cell_type": "code",
   "execution_count": null,
   "metadata": {},
   "outputs": [],
   "source": [
    "servo = Servo(3)"
   ]
  },
  {
   "cell_type": "markdown",
   "metadata": {},
   "source": [
    "设置值为150,舵机旋转150°"
   ]
  },
  {
   "cell_type": "code",
   "execution_count": null,
   "metadata": {},
   "outputs": [],
   "source": [
    "servo. write_angle(150)"
   ]
  }
 ],
 "metadata": {
  "kernelspec": {
   "display_name": "Python 3",
   "language": "python",
   "name": "python3"
  },
  "language_info": {
   "codemirror_mode": {
    "name": "ipython",
    "version": 3
   },
   "file_extension": ".py",
   "mimetype": "text/x-python",
   "name": "python",
   "nbconvert_exporter": "python",
   "pygments_lexer": "ipython3",
   "version": "3.5.2"
  }
 },
 "nbformat": 4,
 "nbformat_minor": 2
}
