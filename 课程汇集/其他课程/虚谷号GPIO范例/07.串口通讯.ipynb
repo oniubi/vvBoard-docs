{
 "cells": [
  {
   "cell_type": "markdown",
   "metadata": {},
   "source": [
    "# 串口通讯\n",
    "    将 Arduino 的串口通信内容转发到 PC 的串口。调用SerialMgt(port, baudrate)函数，port 指虚谷号连接 pc 的串口号,baudrate 为串口波特率。当不设置串口号和波特率时,虚谷库默认使用/dev/ttyGS0 串口,波特率为 115200。还调用SerialMgt.write(data)向串口中写入数据,data 为写入的数据,类型为 String。\n",
    "    \n",
    "使用xugu 库中Pin、XuguLog、SerialMgt类，读取模拟传感器数值打印到文本内并通过 PC 串口输出"
   ]
  },
  {
   "cell_type": "code",
   "execution_count": null,
   "metadata": {},
   "outputs": [],
   "source": [
    "from xugu import Pin, XuguLog, SerialMgt # 从 xugu 库中导入 Pin、XuguLog、SerialMgt类\n",
    "import time # 导入时间模块"
   ]
  },
  {
   "cell_type": "markdown",
   "metadata": {},
   "source": [
    "设置读取模拟传感器数值的次数"
   ]
  },
  {
   "cell_type": "code",
   "execution_count": null,
   "metadata": {},
   "outputs": [],
   "source": [
    "test = 20"
   ]
  },
  {
   "cell_type": "markdown",
   "metadata": {},
   "source": [
    "选择读取的引脚初始化"
   ]
  },
  {
   "cell_type": "code",
   "execution_count": null,
   "metadata": {},
   "outputs": [],
   "source": [
    "p = Pin(\"A0\", Pin.ANALOG)"
   ]
  },
  {
   "cell_type": "markdown",
   "metadata": {},
   "source": [
    "初始化串口"
   ]
  },
  {
   "cell_type": "code",
   "execution_count": null,
   "metadata": {},
   "outputs": [],
   "source": [
    "ser = SerialMgt()"
   ]
  },
  {
   "cell_type": "markdown",
   "metadata": {},
   "source": [
    "设置文本保存的路径"
   ]
  },
  {
   "cell_type": "code",
   "execution_count": null,
   "metadata": {},
   "outputs": [],
   "source": [
    "f=XuguLog('read_analog_20_times.log') # 当 不 指 定 路 径 时 , log 文 件 保 存 在 与digital_input.py 同级路径下\n",
    "#f=XuguLog('/home/scope/analog_input.log') # 初始化日志对象,当指定路径时 log 文件保存在指定路径下"
   ]
  },
  {
   "cell_type": "markdown",
   "metadata": {},
   "source": [
    "每500ms读取数值保存在文本内并写入到串口，循环读取20次，在 PC 端建议通过串口工具打开对应的串口号，即可查看虚谷板写入的内容"
   ]
  },
  {
   "cell_type": "code",
   "execution_count": null,
   "metadata": {},
   "outputs": [],
   "source": [
    "while test > 0:\n",
    "    value = p.read_analog() #读取 A0 引脚的电压值\n",
    "    f. write(str(value)) # 将变量 value 写入到日志文件中\n",
    "    print(value) # 将 value 的值打印到终端\n",
    "    ser.write(str(value).encode()) # 将 value 的值写入串口\n",
    "    test -= 1 # 计数自减 1\n",
    "    time.sleep(0.5) # 持续 500ms"
   ]
  }
 ],
 "metadata": {
  "kernelspec": {
   "display_name": "Python 3",
   "language": "python",
   "name": "python3"
  },
  "language_info": {
   "codemirror_mode": {
    "name": "ipython",
    "version": 3
   },
   "file_extension": ".py",
   "mimetype": "text/x-python",
   "name": "python",
   "nbconvert_exporter": "python",
   "pygments_lexer": "ipython3",
   "version": "3.5.2"
  }
 },
 "nbformat": 4,
 "nbformat_minor": 2
}
