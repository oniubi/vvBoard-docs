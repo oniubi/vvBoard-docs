{
 "cells": [
  {
   "cell_type": "markdown",
   "metadata": {},
   "source": [
    "# 模拟输出"
   ]
  },
  {
   "cell_type": "markdown",
   "metadata": {},
   "source": [
    "    直接输出模拟信号，调用Pin.write_analog(value)函数，给引脚设置模拟值。value指要设置的模拟值,数据范围在0和255之间。该方法在输出模式有效。虚谷号支持的模拟输出(PWM 方式)的引脚共有6个: 3、5、6、9、10、11。"
   ]
  },
  {
   "cell_type": "markdown",
   "metadata": {},
   "source": [
    "### 范例：PWM方式控制LED\n",
    "\n",
    "用PWM方式控制LED模块，接在虚谷号的10号引脚上。\n",
    "\n",
    "单片机的模拟电平输出，一般都是采用PWM脉宽调制实现，Arduino上支持PWM的引脚有3，5，6，9，10，11，在虚谷号板子上可以看到引脚旁边有“～”的标志。\n",
    "\n",
    "使用xugu库的Pin类，代码如下："
   ]
  },
  {
   "cell_type": "code",
   "execution_count": null,
   "metadata": {},
   "outputs": [],
   "source": [
    "from xugu import Pin  # 从xugu库中导入Pin类"
   ]
  },
  {
   "cell_type": "markdown",
   "metadata": {},
   "source": [
    "选择引脚初始化"
   ]
  },
  {
   "cell_type": "code",
   "execution_count": null,
   "metadata": {},
   "outputs": [],
   "source": [
    "p = Pin(10, Pin.OUT)"
   ]
  },
  {
   "cell_type": "markdown",
   "metadata": {},
   "source": [
    "给引脚设置模拟值128"
   ]
  },
  {
   "cell_type": "code",
   "execution_count": null,
   "metadata": {},
   "outputs": [],
   "source": [
    "p.write_analog(128)"
   ]
  },
  {
   "cell_type": "markdown",
   "metadata": {},
   "source": [
    "给引脚设置模拟值255"
   ]
  },
  {
   "cell_type": "code",
   "execution_count": null,
   "metadata": {},
   "outputs": [],
   "source": [
    "p.write_analog(255)"
   ]
  },
  {
   "cell_type": "markdown",
   "metadata": {},
   "source": [
    "小挑战：写一个循环语句，控制LED的明暗交替变化，看看能不能实现呼吸灯的效果。"
   ]
  },
  {
   "cell_type": "code",
   "execution_count": null,
   "metadata": {},
   "outputs": [],
   "source": [
    "import time # 导入时间模块\n",
    "v=5\n",
    "for i in range(1000):\n",
    "    if i>255:\n",
    "        v=v*-1\n",
    "    p.write_analog(i)\n",
    "    i=i+v\n",
    "    time.sleep(0.1) # 持续100ms"
   ]
  },
  {
   "cell_type": "markdown",
   "metadata": {},
   "source": [
    "**注：**运行到这里，如果不需要运行程序或者关闭窗口，请先点击上方的黑色正方形中断服务。"
   ]
  },
  {
   "cell_type": "raw",
   "metadata": {},
   "source": [
    "##注：如果打开笔记的时候，程序已经运行，需先选择上方“服务”->再选择“重启 & 清空输出”，便可重新运行程序"
   ]
  }
 ],
 "metadata": {
  "kernelspec": {
   "display_name": "Python 3",
   "language": "python",
   "name": "python3"
  },
  "language_info": {
   "codemirror_mode": {
    "name": "ipython",
    "version": 3
   },
   "file_extension": ".py",
   "mimetype": "text/x-python",
   "name": "python",
   "nbconvert_exporter": "python",
   "pygments_lexer": "ipython3",
   "version": "3.5.2"
  }
 },
 "nbformat": 4,
 "nbformat_minor": 2
}
