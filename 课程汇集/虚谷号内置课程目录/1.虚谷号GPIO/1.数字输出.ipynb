{
 "cells": [
  {
   "cell_type": "markdown",
   "metadata": {},
   "source": [
    "# 虚谷号GPIO之数字输出"
   ]
  },
  {
   "cell_type": "markdown",
   "metadata": {},
   "source": [
    "    描述：给Arduino引脚设置高（1）、低（0）两种电平状态。\n",
    "    \n",
    "    实现：调用xugu库Pin类中的write_digital(value)函数，给引脚设置电平值。value指要设置的电平值,1代表高电平,0代表低电平。该方法在输出模式有效。"
   ]
  },
  {
   "cell_type": "markdown",
   "metadata": {},
   "source": [
    "**注意：**第一次引用xugu库时，虚谷号将检查板载Arduino上是否烧写了Firmata协议。如果没有，将调用烧写工具，给Arduino写Firmata协议的固件。这个过程需要十多秒时间。你将看到板子上有Led在闪烁。"
   ]
  },
  {
   "cell_type": "markdown",
   "metadata": {},
   "source": [
    "### 范例：控制虚谷号板载LED\n",
    "\n",
    "虚谷号的13号口，默认接上了一个LED，可以用高低电平来控制LED的开和关。"
   ]
  },
  {
   "cell_type": "code",
   "execution_count": null,
   "metadata": {},
   "outputs": [],
   "source": [
    "from xugu import Pin "
   ]
  },
  {
   "cell_type": "markdown",
   "metadata": {},
   "source": [
    "选择引脚初始化"
   ]
  },
  {
   "cell_type": "code",
   "execution_count": null,
   "metadata": {},
   "outputs": [],
   "source": [
    "p = Pin(13, Pin.OUT) \n",
    "#等价的写法: p = Pin(“D13”, Pin.OUT)"
   ]
  },
  {
   "cell_type": "markdown",
   "metadata": {},
   "source": [
    "设置为1（高电平），点亮13脚的LED灯"
   ]
  },
  {
   "cell_type": "code",
   "execution_count": null,
   "metadata": {},
   "outputs": [],
   "source": [
    "# 设置 13号引脚为高电平\n",
    "p.write_digital(1)"
   ]
  },
  {
   "cell_type": "markdown",
   "metadata": {},
   "source": [
    "设置为0（低电平），熄灭13脚的LED灯"
   ]
  },
  {
   "cell_type": "code",
   "execution_count": null,
   "metadata": {},
   "outputs": [],
   "source": [
    "p.write_digital(0) # 设置 13 号引脚为低电平"
   ]
  },
  {
   "cell_type": "markdown",
   "metadata": {},
   "source": [
    "**注：**运行到这里，如果需要运行下面的程序或者关闭窗口，请先点击上方的黑色正方形中断服务。"
   ]
  },
  {
   "cell_type": "markdown",
   "metadata": {},
   "source": [
    "### 范例：虚谷闪一闪1\n",
    "\n",
    "让虚谷号自带的LED(接在13号引脚，即D13)闪烁，设置为亮1秒熄灭1秒。\n",
    "\n",
    "采用数字输出的方式，使用xugu库的Pin类和时间模块进行，代码如下："
   ]
  },
  {
   "cell_type": "code",
   "execution_count": null,
   "metadata": {},
   "outputs": [],
   "source": [
    "import time # 导入 time 模块\n",
    "from xugu import Pin # 从 xugu 库中导入 Pin 类\n",
    "led = Pin(13, Pin.OUT) # 初始化 Pin 类\n",
    "# 等价的写法:led = Pin(“D13”, pin.OUT)\n",
    "while True:\n",
    "    # #用循环实现持续地开灯关灯,到达闪烁的效果\n",
    "    led.write_digital(1) # 点亮连接13号引脚的 LED 灯\n",
    "    time.sleep(1) # 持续 1 秒\n",
    "    led.write_digital(0) # 关闭 LED 灯\n",
    "    time.sleep(1) # 持续 1 秒"
   ]
  },
  {
   "cell_type": "markdown",
   "metadata": {},
   "source": [
    "**注：**运行到这里，如果需要运行下面的程序或者关闭窗口，请先点击上方的黑色正方形中断服务。"
   ]
  },
  {
   "cell_type": "markdown",
   "metadata": {},
   "source": [
    "（2）调用xugu库中Pin类\n",
    "\n",
    "xugu库中还有一个特殊的类：LED。LED类使用方法和Pin类中的数字输出很像。\n",
    "\n",
    "### 范例：虚谷闪一闪2\n",
    "\n",
    "让虚谷号自带的LED（接在13号引脚,即D13）闪烁，设置为亮2秒熄灭3秒。\n",
    "\n",
    "使用xugu库的LED类和时间模块进行，代码如下："
   ]
  },
  {
   "cell_type": "code",
   "execution_count": null,
   "metadata": {},
   "outputs": [],
   "source": [
    "import time #导入time模块\n",
    "from xugu import LED #从xugu库中导入LED类\n",
    "led = LED(13) # 初始化LED类\n",
    "\n",
    "while True:   # 用循环实现持续地开灯关灯，到达闪烁的效果 \n",
    "    led.on()  # 点亮连接13号引脚的LED灯\n",
    "    time.sleep(2) # 持续2秒\n",
    "    led.off()  # 关闭LED灯\n",
    "    time.sleep(3)  # 持续3秒"
   ]
  },
  {
   "cell_type": "markdown",
   "metadata": {},
   "source": [
    "**注：**运行到这里，如果不需要运行程序或者关闭窗口，请先点击上方的黑色正方形中断服务。如果打开笔记的时候，程序已经运行，需先选择上方“服务”->再选择“重启 & 清空输出”，便可重新运行程序"
   ]
  },
  {
   "cell_type": "code",
   "execution_count": null,
   "metadata": {},
   "outputs": [],
   "source": []
  }
 ],
 "metadata": {
  "kernelspec": {
   "display_name": "Python 3",
   "language": "python",
   "name": "python3"
  },
  "language_info": {
   "codemirror_mode": {
    "name": "ipython",
    "version": 3
   },
   "file_extension": ".py",
   "mimetype": "text/x-python",
   "name": "python",
   "nbconvert_exporter": "python",
   "pygments_lexer": "ipython3",
   "version": "3.5.2"
  }
 },
 "nbformat": 4,
 "nbformat_minor": 2
}
