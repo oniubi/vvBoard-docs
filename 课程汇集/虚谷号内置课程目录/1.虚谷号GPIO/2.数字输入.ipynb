{
 "cells": [
  {
   "cell_type": "markdown",
   "metadata": {},
   "source": [
    "# 虚谷号GPIO之数字输入"
   ]
  },
  {
   "cell_type": "markdown",
   "metadata": {},
   "source": [
    "    描述：读取Arduino引脚的电平高低状态。\n",
    "    \n",
    "    实现：调用xugu库Pin类中的read_digital()函数，返回该IO引脚电平值，1代表高电平，0代表低电平。该方法在输入模式有效。"
   ]
  },
  {
   "cell_type": "markdown",
   "metadata": {},
   "source": [
    "**注意：**第一次引用xugu库时，虚谷号将检查板载Arduino上是否烧写了Firmata协议。如果没有，将调用烧写工具，给Arduino写Firmata协议的固件。这个过程需要十多秒时间。你将看到板子上有Led在闪烁。"
   ]
  },
  {
   "cell_type": "markdown",
   "metadata": {},
   "source": [
    "### 范例：定时读取数字传感器\n",
    "\n",
    "让虚谷号定时读取数字传感器的值，并打印输出，数字传感器接在4号引脚。\n",
    "\n",
    "使用xugu库的Pin类和时间模块进行，代码如下："
   ]
  },
  {
   "cell_type": "code",
   "execution_count": null,
   "metadata": {},
   "outputs": [],
   "source": [
    "from xugu import Pin # 从 xugu 库中导入 Pin类\n",
    "import time # 导入时间模块"
   ]
  },
  {
   "cell_type": "markdown",
   "metadata": {},
   "source": [
    "选择引脚初始化。"
   ]
  },
  {
   "cell_type": "code",
   "execution_count": null,
   "metadata": {},
   "outputs": [],
   "source": [
    "p = Pin(4, Pin.IN) "
   ]
  },
  {
   "cell_type": "markdown",
   "metadata": {},
   "source": [
    "每100ms读取一次值并打印结果。"
   ]
  },
  {
   "cell_type": "code",
   "execution_count": null,
   "metadata": {},
   "outputs": [],
   "source": [
    "while True:\n",
    "    value=p.read_digital() # 读取 4 号引脚电平信息,赋值给 value\n",
    "    print(value) # 将value的值打印到终端上\n",
    "    time.sleep(0.1) # 持续100ms"
   ]
  },
  {
   "cell_type": "markdown",
   "metadata": {},
   "source": [
    "常见的数字传感器有按钮、触摸、红外测障等。\n",
    "\n",
    "**注：**运行到这里，如果不需要运行程序或者关闭窗口，请先点击上方的黑色正方形中断服务。如果打开笔记的时候，程序已经运行，需先选择上方“服务”->再选择“重启 & 清空输出”，便可重新运行程序。"
   ]
  },
  {
   "cell_type": "code",
   "execution_count": null,
   "metadata": {},
   "outputs": [],
   "source": []
  }
 ],
 "metadata": {
  "kernelspec": {
   "display_name": "Python 3",
   "language": "python",
   "name": "python3"
  },
  "language_info": {
   "codemirror_mode": {
    "name": "ipython",
    "version": 3
   },
   "file_extension": ".py",
   "mimetype": "text/x-python",
   "name": "python",
   "nbconvert_exporter": "python",
   "pygments_lexer": "ipython3",
   "version": "3.5.2"
  }
 },
 "nbformat": 4,
 "nbformat_minor": 2
}
