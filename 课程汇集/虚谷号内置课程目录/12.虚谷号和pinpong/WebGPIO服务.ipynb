{
 "cells": [
  {
   "cell_type": "markdown",
   "metadata": {},
   "source": [
    "# WebGPIO服务"
   ]
  },
  {
   "cell_type": "markdown",
   "metadata": {},
   "source": [
    "WebGPIO最初为虚谷号设计，让虚谷号作为一个Web服务器，能够通过HTTP指令控制的读取或者控制各种I/O接口，方便用手机或者其他终端进行控制。后来采用pinpong库，任何一台电脑，只要接上一块开源硬件（如Arduino、掌控板），就能实现远程控制，尤其适合作为一个智能家居终端。\n",
    "\n",
    "WebGPIO仅仅一个Pyhon程序，Web服务器的端口为1024，运行即可。\n",
    "\n",
    "WebGPIO的GitHub：https://github.com/vvlink/vvBoard-app/tree/master/webgpio"
   ]
  },
  {
   "cell_type": "code",
   "execution_count": null,
   "metadata": {},
   "outputs": [],
   "source": [
    "! python webgpio2.0.py"
   ]
  }
 ],
 "metadata": {
  "kernelspec": {
   "display_name": "Python 3",
   "language": "python",
   "name": "python3"
  },
  "language_info": {
   "codemirror_mode": {
    "name": "ipython",
    "version": 3
   },
   "file_extension": ".py",
   "mimetype": "text/x-python",
   "name": "python",
   "nbconvert_exporter": "python",
   "pygments_lexer": "ipython3",
   "version": "3.5.2"
  }
 },
 "nbformat": 4,
 "nbformat_minor": 2
}
