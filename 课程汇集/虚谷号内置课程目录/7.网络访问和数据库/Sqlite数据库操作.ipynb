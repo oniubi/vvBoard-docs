{
 "cells": [
  {
   "cell_type": "markdown",
   "metadata": {},
   "source": [
    "# Sqlite数据库操作"
   ]
  },
  {
   "cell_type": "markdown",
   "metadata": {},
   "source": [
    "SQLite是一个软件库，实现了自给自足的、无服务器的、零配置的、事务性的SQL 数据库引擎。SQLite 是在世界上最广泛部署的SQL数据库引擎，可以直接在本地以一个文件的形式保存这个数据库。Python3已经自带了Sqlite数据库，可以直接使用。\n",
    "\n",
    "代码整理：谢作如"
   ]
  },
  {
   "cell_type": "code",
   "execution_count": null,
   "metadata": {},
   "outputs": [],
   "source": [
    "#导入sqlite3数据库\n",
    "import sqlite3 as sq3"
   ]
  },
  {
   "cell_type": "markdown",
   "metadata": {},
   "source": [
    "## Sqlite的常用数据类型\n",
    "\n",
    "1）NULL\t值是一个 NULL 值。\n",
    "2）INTEGER\t值是一个带符号的整数，根据值的大小存储在 1、2、3、4、6 或 8 字节中。\n",
    "3）REAL\t值是一个浮点值，存储为8字节的IEEE浮点数字。\n",
    "4）TEXT\t值是一个文本字符串，使用数据库编码（UTF-8、UTF-16BE 或 UTF-16LE）存储。\n",
    "5）BLOB\t值是一个blob数据，完全根据它的输入存储。"
   ]
  },
  {
   "cell_type": "markdown",
   "metadata": {},
   "source": [
    "## 创建数据库和表"
   ]
  },
  {
   "cell_type": "code",
   "execution_count": null,
   "metadata": {},
   "outputs": [],
   "source": [
    "path  = r'./'\n",
    "#在同一目录下，新建一个数据库文件\n",
    "#connect 连接一个数据库\n",
    "con =  sq3.connect(path+'data.db')"
   ]
  },
  {
   "cell_type": "code",
   "execution_count": null,
   "metadata": {},
   "outputs": [],
   "source": [
    "#创建一个表，并说明表内容的数据类型(列名 列类型,)\n",
    "con.execute('CREATE TABLE numbs (Date date,No1 real,No2 real)')\n",
    "#执行完都要提交\n",
    "con.commit()"
   ]
  },
  {
   "cell_type": "markdown",
   "metadata": {},
   "source": [
    "现在，请查看一下这个文件夹，是不是多了一个“data.db”文件？这就是新建的数据库文件。这个数据库有一个叫做“numbs”的表，字段分别为Date，No1和No2。其中Date的类型是“date”，其他都是“real”。\n",
    "\n",
    "说明：ls是linux的列目录命令，类似windows中的dir。在命令请加上“！”，是告诉jupyter，这是linux命令。"
   ]
  },
  {
   "cell_type": "code",
   "execution_count": null,
   "metadata": {},
   "outputs": [],
   "source": [
    "!ls"
   ]
  },
  {
   "cell_type": "markdown",
   "metadata": {},
   "source": [
    "我们来查看一下numbs表的结构。"
   ]
  },
  {
   "cell_type": "code",
   "execution_count": null,
   "metadata": {},
   "outputs": [],
   "source": [
    "d=con.execute('PRAGMA table_info(numbs)')\n",
    "d.fetchall()"
   ]
  },
  {
   "cell_type": "markdown",
   "metadata": {},
   "source": [
    "## 写入数据"
   ]
  },
  {
   "cell_type": "code",
   "execution_count": null,
   "metadata": {},
   "outputs": [],
   "source": [
    "import datetime as dt\n",
    "con.execute('INSERT INTO numbs VALUES(?,?,?)',(dt.datetime.now(),0.15,8.9))"
   ]
  },
  {
   "cell_type": "markdown",
   "metadata": {},
   "source": [
    "“INSERT INTO”是典型的sql语法，表示插入一条记录。下面用“select”语句读出。是不是看到了一条记录？"
   ]
  },
  {
   "cell_type": "code",
   "execution_count": null,
   "metadata": {
    "scrolled": true
   },
   "outputs": [],
   "source": [
    "d=con.execute('select * from numbs')\n",
    "d.fetchall()"
   ]
  },
  {
   "cell_type": "markdown",
   "metadata": {},
   "source": [
    "d.fetchall()得到的是一个元组，获得所有记录。如果有多条记录，用d.fetchone()得到第一条记录，再使用就得到第二条记录，以此类推。"
   ]
  },
  {
   "cell_type": "code",
   "execution_count": null,
   "metadata": {},
   "outputs": [],
   "source": [
    "#继续写入多条数据，用numpy生成随机数。\n",
    "import numpy as np\n",
    "data = np.random.standard_normal((1000,2)).round(5) #取1000行2列的标准正态分布的随机数\n",
    "for row in data:\n",
    "    con.execute('INSERT INTO numbs VALUES(?,?,?)',(dt.datetime.now(),row[0],row[1]))\n",
    "con.commit()"
   ]
  },
  {
   "cell_type": "markdown",
   "metadata": {},
   "source": [
    "## 查询语句"
   ]
  },
  {
   "cell_type": "markdown",
   "metadata": {},
   "source": [
    "前面用con.execute('select * from numbs').fetchone()，得到了第一条记录，用fetchmany(10)表示得到前10条。"
   ]
  },
  {
   "cell_type": "code",
   "execution_count": null,
   "metadata": {},
   "outputs": [],
   "source": [
    "con.execute('SELECT * FROM numbs').fetchmany(10) #获取前10条"
   ]
  },
  {
   "cell_type": "code",
   "execution_count": null,
   "metadata": {},
   "outputs": [],
   "source": [
    "# 可以用这样的方式，循环读出5条。\n",
    "d = con.execute('SELECT * FROM numbs')\n",
    "for i in range(5):\n",
    "    print(d.fetchone())"
   ]
  },
  {
   "cell_type": "code",
   "execution_count": null,
   "metadata": {},
   "outputs": [],
   "source": [
    "# 最后要关闭数据库连接con\n",
    "con.close()"
   ]
  },
  {
   "cell_type": "markdown",
   "metadata": {},
   "source": [
    "## 修改记录\n",
    "\n",
    "修改之前插入的第一条记录，即No1=0.15，No2=8.9的那一条。"
   ]
  },
  {
   "cell_type": "code",
   "execution_count": null,
   "metadata": {},
   "outputs": [],
   "source": [
    "sql = 'update numbs set No1=2.5 where No2=8.9'\n",
    "con.execute(sql)"
   ]
  },
  {
   "cell_type": "markdown",
   "metadata": {},
   "source": [
    "读出来看一下，是不是已经修改？"
   ]
  },
  {
   "cell_type": "code",
   "execution_count": null,
   "metadata": {
    "scrolled": true
   },
   "outputs": [],
   "source": [
    "d=con.execute('select * from numbs where No2=8.9')\n",
    "d.fetchone()"
   ]
  },
  {
   "cell_type": "markdown",
   "metadata": {},
   "source": [
    "也许sql语句采用这样的写法，看起来会更加舒服一些。"
   ]
  },
  {
   "cell_type": "code",
   "execution_count": null,
   "metadata": {},
   "outputs": [],
   "source": [
    "sql = 'update numbs set No1=? where No2=?'\n",
    "con.execute(sql,(3.0,8.9))"
   ]
  },
  {
   "cell_type": "markdown",
   "metadata": {},
   "source": [
    "## 删除记录"
   ]
  },
  {
   "cell_type": "code",
   "execution_count": null,
   "metadata": {},
   "outputs": [],
   "source": [
    "sql = 'delete from numbs where No2=8.9'\n",
    "con.execute(sql)"
   ]
  },
  {
   "cell_type": "markdown",
   "metadata": {},
   "source": [
    "还是要读出来看一下，是不是已经删除了。"
   ]
  },
  {
   "cell_type": "code",
   "execution_count": null,
   "metadata": {},
   "outputs": [],
   "source": [
    "d=con.execute('select * from numbs')\n",
    "d.fetchone()"
   ]
  },
  {
   "cell_type": "markdown",
   "metadata": {},
   "source": [
    "## 使用游标对象来操作\n",
    "\n",
    "使用con.cursor()获取游标对象，查询数据库的效率会更高。下面提供的是完整代码。"
   ]
  },
  {
   "cell_type": "code",
   "execution_count": null,
   "metadata": {},
   "outputs": [],
   "source": [
    "import sqlite3 as sq3\n",
    "path  = r'./'\n",
    "con =  sq3.connect(path+'data.db')\n",
    "# 创建一个名为student的表\n",
    "con.execute(\"CREATE TABLE student (pname TEXT,age INTEGER)\")\n",
    "con.commit()\n",
    "# 获取cursor对象\n",
    "cur = con.cursor()\n",
    "sql = 'insert into student(pname,age) values(?,?)'\n",
    "try:\n",
    "    cur.execute(sql,('张三',23))\n",
    "    con.commit()\n",
    "    print('插入成功')\n",
    "except Exception as e:\n",
    "    print(e)\n",
    "    print('插入失败')\n",
    "    con.rollback()\n",
    "finally:\n",
    "    # 关闭游标\n",
    "    cur.close()\n",
    "    # 关闭连接\n",
    "    con.close()"
   ]
  },
  {
   "cell_type": "code",
   "execution_count": null,
   "metadata": {},
   "outputs": [],
   "source": [
    "import sqlite3 as sq3\n",
    "path  = r'./'\n",
    "con =  sq3.connect(path+'data.db')\n",
    "con.commit()\n",
    "cur = con.cursor()\n",
    "sql = 'select * from student'\n",
    "try:\n",
    "    cur.execute(sql)\n",
    "    # 获取所有数据\n",
    "    person_all = cur.fetchall()\n",
    "    # print(person_all)\n",
    "    # 遍历\n",
    "    for p in person_all:\n",
    "        print(p)\n",
    "except Exception as e:\n",
    "    print(e)\n",
    "    print('查询失败')\n",
    "finally:\n",
    "    # 关闭游标\n",
    "    cur.close()\n",
    "    # 关闭连接\n",
    "    con.close()"
   ]
  },
  {
   "cell_type": "code",
   "execution_count": null,
   "metadata": {},
   "outputs": [],
   "source": []
  }
 ],
 "metadata": {
  "kernelspec": {
   "display_name": "Python 3",
   "language": "python",
   "name": "python3"
  },
  "language_info": {
   "codemirror_mode": {
    "name": "ipython",
    "version": 3
   },
   "file_extension": ".py",
   "mimetype": "text/x-python",
   "name": "python",
   "nbconvert_exporter": "python",
   "pygments_lexer": "ipython3",
   "version": "3.5.2"
  }
 },
 "nbformat": 4,
 "nbformat_minor": 2
}
