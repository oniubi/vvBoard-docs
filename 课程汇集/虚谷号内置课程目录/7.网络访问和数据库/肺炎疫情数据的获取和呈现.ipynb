{
 "cells": [
  {
   "cell_type": "markdown",
   "metadata": {},
   "source": [
    "# 肺炎疫情数据的获取和呈现\n",
    "\n",
    "看到很多人在做各种与疫情相关的创客作品，于是用虚谷号写了相关的代码。"
   ]
  },
  {
   "cell_type": "markdown",
   "metadata": {},
   "source": [
    "## 1.获取数据\n",
    "\n",
    "在网上找了一个疫情数据的接口地址：https://lab.isaaclin.cn/nCoV/ \n",
    "\n",
    "本接口为全国新型肺炎疫情实时数据接口，数据来源为丁香园，开放给所有人使用。\n",
    "\n",
    "请求接口：/nCoV/api/area\n",
    "\n",
    "请求方式：GET\n",
    "\n",
    "返回自2020年1月22日凌晨3:00（爬虫开始运行）至今，中国所有省份、地区或直辖市及世界其他国家的所有疫情信息变化的时间序列数据（精确到市），能够追溯确诊/疑似感染/治愈/死亡人数的时间序列。\n",
    "\n",
    "**注**：自2020年1月22日凌晨3:00至2020年1月24日凌晨3:40之间的数据只有省级数据，自2020年1月24日起，丁香园才开始统计并公开市级数据。\n",
    "\n",
    "|变量名|注释|\n",
    "|--|--|\n",
    "|latest|1：返回最新数据（默认）；0：返回时间序列数据。|\n",
    "|province|省份、地区或直辖市，如：湖北省、香港、北京市。|\n",
    "\n",
    "范例1（返回浙江省最新数据）：\n",
    "https://lab.isaaclin.cn/nCoV/api/area?&province=浙江省\n",
    "\n",
    "范例2（返回浙江省所有数据）：\n",
    "https://lab.isaaclin.cn/nCoV/api/area?&province=浙江省&latest=0"
   ]
  },
  {
   "cell_type": "code",
   "execution_count": 1,
   "metadata": {},
   "outputs": [],
   "source": [
    "import requests\n",
    "get_url = 'https://lab.isaaclin.cn/nCoV/api/area?&province=浙江省'\n",
    "re = requests.get(get_url, headers={\"Content-Type\":\"application/json\"},)\n",
    "r  = re.json()"
   ]
  },
  {
   "cell_type": "markdown",
   "metadata": {},
   "source": [
    "变量r就是接口返回的数据，我找的是浙江省的数据。用print输出，再找数据的规律。"
   ]
  },
  {
   "cell_type": "code",
   "execution_count": 2,
   "metadata": {},
   "outputs": [
    {
     "name": "stdout",
     "output_type": "stream",
     "text": [
      "{'results': [{'provinceShortName': '浙江', 'suspectedCount': 0, 'cities': [{'curedCount': 159, 'confirmedCount': 496, 'cityName': '温州', 'suspectedCount': 0, 'deadCount': 0, 'currentConfirmedCount': 337, 'locationId': 330300}, {'curedCount': 35, 'confirmedCount': 153, 'cityName': '宁波', 'suspectedCount': 0, 'deadCount': 0, 'currentConfirmedCount': 118, 'locationId': 330200}, {'curedCount': 69, 'confirmedCount': 165, 'cityName': '杭州', 'suspectedCount': 0, 'deadCount': 0, 'currentConfirmedCount': 96, 'locationId': 330100}, {'curedCount': 52, 'confirmedCount': 144, 'cityName': '台州', 'suspectedCount': 0, 'deadCount': 0, 'currentConfirmedCount': 92, 'locationId': 331000}, {'curedCount': 10, 'confirmedCount': 42, 'cityName': '嘉兴', 'suspectedCount': 0, 'deadCount': 0, 'currentConfirmedCount': 32, 'locationId': 330400}, {'curedCount': 24, 'confirmedCount': 55, 'cityName': '金华', 'suspectedCount': 0, 'deadCount': 0, 'currentConfirmedCount': 31, 'locationId': 330700}, {'curedCount': 16, 'confirmedCount': 42, 'cityName': '绍兴', 'suspectedCount': 0, 'deadCount': 0, 'currentConfirmedCount': 26, 'locationId': 330600}, {'curedCount': 8, 'confirmedCount': 21, 'cityName': '衢州', 'suspectedCount': 0, 'deadCount': 0, 'currentConfirmedCount': 13, 'locationId': 330800}, {'curedCount': 10, 'confirmedCount': 17, 'cityName': '丽水', 'suspectedCount': 0, 'deadCount': 0, 'currentConfirmedCount': 7, 'locationId': 331100}, {'curedCount': 4, 'confirmedCount': 10, 'cityName': '湖州', 'suspectedCount': 0, 'deadCount': 0, 'currentConfirmedCount': 6, 'locationId': 330500}, {'curedCount': 5, 'confirmedCount': 10, 'cityName': '舟山', 'suspectedCount': 0, 'deadCount': 0, 'currentConfirmedCount': 5, 'locationId': 330900}], 'deadCount': 0, 'updateTime': 1581674006397, 'modifyTime': None, 'curedCount': 392, 'confirmedCount': 1155, 'comment': '', 'provinceName': '浙江省', 'country': '中国', 'createTime': None}], 'success': True}\n"
     ]
    }
   ],
   "source": [
    "print(r)"
   ]
  },
  {
   "cell_type": "markdown",
   "metadata": {},
   "source": [
    "通过`r[\"results\"][0][\"cities\"][0]`可以得到“温州”的数值。"
   ]
  },
  {
   "cell_type": "code",
   "execution_count": 3,
   "metadata": {},
   "outputs": [
    {
     "data": {
      "text/plain": [
       "'温州'"
      ]
     },
     "execution_count": 3,
     "metadata": {},
     "output_type": "execute_result"
    }
   ],
   "source": [
    "#显示城市\n",
    "r[\"results\"][0][\"cities\"][0][\"cityName\"]"
   ]
  },
  {
   "cell_type": "code",
   "execution_count": 4,
   "metadata": {},
   "outputs": [
    {
     "data": {
      "text/plain": [
       "496"
      ]
     },
     "execution_count": 4,
     "metadata": {},
     "output_type": "execute_result"
    }
   ],
   "source": [
    "#显示确诊人数\n",
    "r[\"results\"][0][\"cities\"][0][\"confirmedCount\"]"
   ]
  },
  {
   "cell_type": "markdown",
   "metadata": {},
   "source": [
    "我们需要的仅仅是`r[\"results\"][0][\"cities\"]`的内容，先赋值给一个变量，这样代码会短一点，看起来也舒服。"
   ]
  },
  {
   "cell_type": "code",
   "execution_count": 5,
   "metadata": {},
   "outputs": [
    {
     "data": {
      "text/plain": [
       "[{'cityName': '温州',\n",
       "  'confirmedCount': 496,\n",
       "  'curedCount': 159,\n",
       "  'currentConfirmedCount': 337,\n",
       "  'deadCount': 0,\n",
       "  'locationId': 330300,\n",
       "  'suspectedCount': 0},\n",
       " {'cityName': '宁波',\n",
       "  'confirmedCount': 153,\n",
       "  'curedCount': 35,\n",
       "  'currentConfirmedCount': 118,\n",
       "  'deadCount': 0,\n",
       "  'locationId': 330200,\n",
       "  'suspectedCount': 0},\n",
       " {'cityName': '杭州',\n",
       "  'confirmedCount': 165,\n",
       "  'curedCount': 69,\n",
       "  'currentConfirmedCount': 96,\n",
       "  'deadCount': 0,\n",
       "  'locationId': 330100,\n",
       "  'suspectedCount': 0},\n",
       " {'cityName': '台州',\n",
       "  'confirmedCount': 144,\n",
       "  'curedCount': 52,\n",
       "  'currentConfirmedCount': 92,\n",
       "  'deadCount': 0,\n",
       "  'locationId': 331000,\n",
       "  'suspectedCount': 0},\n",
       " {'cityName': '嘉兴',\n",
       "  'confirmedCount': 42,\n",
       "  'curedCount': 10,\n",
       "  'currentConfirmedCount': 32,\n",
       "  'deadCount': 0,\n",
       "  'locationId': 330400,\n",
       "  'suspectedCount': 0},\n",
       " {'cityName': '金华',\n",
       "  'confirmedCount': 55,\n",
       "  'curedCount': 24,\n",
       "  'currentConfirmedCount': 31,\n",
       "  'deadCount': 0,\n",
       "  'locationId': 330700,\n",
       "  'suspectedCount': 0},\n",
       " {'cityName': '绍兴',\n",
       "  'confirmedCount': 42,\n",
       "  'curedCount': 16,\n",
       "  'currentConfirmedCount': 26,\n",
       "  'deadCount': 0,\n",
       "  'locationId': 330600,\n",
       "  'suspectedCount': 0},\n",
       " {'cityName': '衢州',\n",
       "  'confirmedCount': 21,\n",
       "  'curedCount': 8,\n",
       "  'currentConfirmedCount': 13,\n",
       "  'deadCount': 0,\n",
       "  'locationId': 330800,\n",
       "  'suspectedCount': 0},\n",
       " {'cityName': '丽水',\n",
       "  'confirmedCount': 17,\n",
       "  'curedCount': 10,\n",
       "  'currentConfirmedCount': 7,\n",
       "  'deadCount': 0,\n",
       "  'locationId': 331100,\n",
       "  'suspectedCount': 0},\n",
       " {'cityName': '湖州',\n",
       "  'confirmedCount': 10,\n",
       "  'curedCount': 4,\n",
       "  'currentConfirmedCount': 6,\n",
       "  'deadCount': 0,\n",
       "  'locationId': 330500,\n",
       "  'suspectedCount': 0},\n",
       " {'cityName': '舟山',\n",
       "  'confirmedCount': 10,\n",
       "  'curedCount': 5,\n",
       "  'currentConfirmedCount': 5,\n",
       "  'deadCount': 0,\n",
       "  'locationId': 330900,\n",
       "  'suspectedCount': 0}]"
      ]
     },
     "execution_count": 5,
     "metadata": {},
     "output_type": "execute_result"
    }
   ],
   "source": [
    "data=r[\"results\"][0][\"cities\"]\n",
    "data"
   ]
  },
  {
   "cell_type": "markdown",
   "metadata": {},
   "source": [
    "用`r[\"results\"][0][\"updateTime\"]`可以得到数据发布的日期，但是这个日期是用timestamp（时间戳）表示的，需要转换。"
   ]
  },
  {
   "cell_type": "code",
   "execution_count": 6,
   "metadata": {},
   "outputs": [
    {
     "name": "stdout",
     "output_type": "stream",
     "text": [
      "2020-02-14 17:53:26\n"
     ]
    }
   ],
   "source": [
    "#将时间戳转换为日期\n",
    "import time\n",
    "timeArray = time.localtime(r[\"results\"][0][\"updateTime\"]/1000)\n",
    "ptime = time.strftime(\"%Y-%m-%d %H:%M:%S\", timeArray)\n",
    "print(ptime)"
   ]
  },
  {
   "cell_type": "markdown",
   "metadata": {},
   "source": [
    "## 2.整理数据\n",
    "\n",
    "在jupyter中处理数据，直接转为pands的表格看起来最直观。"
   ]
  },
  {
   "cell_type": "code",
   "execution_count": 7,
   "metadata": {},
   "outputs": [
    {
     "data": {
      "text/html": [
       "<div>\n",
       "<style scoped>\n",
       "    .dataframe tbody tr th:only-of-type {\n",
       "        vertical-align: middle;\n",
       "    }\n",
       "\n",
       "    .dataframe tbody tr th {\n",
       "        vertical-align: top;\n",
       "    }\n",
       "\n",
       "    .dataframe thead th {\n",
       "        text-align: right;\n",
       "    }\n",
       "</style>\n",
       "<table border=\"1\" class=\"dataframe\">\n",
       "  <thead>\n",
       "    <tr style=\"text-align: right;\">\n",
       "      <th></th>\n",
       "      <th>cityName</th>\n",
       "      <th>confirmedCount</th>\n",
       "      <th>curedCount</th>\n",
       "      <th>currentConfirmedCount</th>\n",
       "    </tr>\n",
       "  </thead>\n",
       "  <tbody>\n",
       "    <tr>\n",
       "      <th>0</th>\n",
       "      <td>温州</td>\n",
       "      <td>496</td>\n",
       "      <td>159</td>\n",
       "      <td>337</td>\n",
       "    </tr>\n",
       "    <tr>\n",
       "      <th>1</th>\n",
       "      <td>宁波</td>\n",
       "      <td>153</td>\n",
       "      <td>35</td>\n",
       "      <td>118</td>\n",
       "    </tr>\n",
       "    <tr>\n",
       "      <th>2</th>\n",
       "      <td>杭州</td>\n",
       "      <td>165</td>\n",
       "      <td>69</td>\n",
       "      <td>96</td>\n",
       "    </tr>\n",
       "    <tr>\n",
       "      <th>3</th>\n",
       "      <td>台州</td>\n",
       "      <td>144</td>\n",
       "      <td>52</td>\n",
       "      <td>92</td>\n",
       "    </tr>\n",
       "    <tr>\n",
       "      <th>4</th>\n",
       "      <td>嘉兴</td>\n",
       "      <td>42</td>\n",
       "      <td>10</td>\n",
       "      <td>32</td>\n",
       "    </tr>\n",
       "    <tr>\n",
       "      <th>5</th>\n",
       "      <td>金华</td>\n",
       "      <td>55</td>\n",
       "      <td>24</td>\n",
       "      <td>31</td>\n",
       "    </tr>\n",
       "    <tr>\n",
       "      <th>6</th>\n",
       "      <td>绍兴</td>\n",
       "      <td>42</td>\n",
       "      <td>16</td>\n",
       "      <td>26</td>\n",
       "    </tr>\n",
       "    <tr>\n",
       "      <th>7</th>\n",
       "      <td>衢州</td>\n",
       "      <td>21</td>\n",
       "      <td>8</td>\n",
       "      <td>13</td>\n",
       "    </tr>\n",
       "    <tr>\n",
       "      <th>8</th>\n",
       "      <td>丽水</td>\n",
       "      <td>17</td>\n",
       "      <td>10</td>\n",
       "      <td>7</td>\n",
       "    </tr>\n",
       "    <tr>\n",
       "      <th>9</th>\n",
       "      <td>湖州</td>\n",
       "      <td>10</td>\n",
       "      <td>4</td>\n",
       "      <td>6</td>\n",
       "    </tr>\n",
       "    <tr>\n",
       "      <th>10</th>\n",
       "      <td>舟山</td>\n",
       "      <td>10</td>\n",
       "      <td>5</td>\n",
       "      <td>5</td>\n",
       "    </tr>\n",
       "  </tbody>\n",
       "</table>\n",
       "</div>"
      ],
      "text/plain": [
       "   cityName  confirmedCount  curedCount  currentConfirmedCount\n",
       "0        温州             496         159                    337\n",
       "1        宁波             153          35                    118\n",
       "2        杭州             165          69                     96\n",
       "3        台州             144          52                     92\n",
       "4        嘉兴              42          10                     32\n",
       "5        金华              55          24                     31\n",
       "6        绍兴              42          16                     26\n",
       "7        衢州              21           8                     13\n",
       "8        丽水              17          10                      7\n",
       "9        湖州              10           4                      6\n",
       "10       舟山              10           5                      5"
      ]
     },
     "execution_count": 7,
     "metadata": {},
     "output_type": "execute_result"
    }
   ],
   "source": [
    "import pandas as pd\n",
    "s = pd.DataFrame(data=data,columns=['cityName','confirmedCount','curedCount','currentConfirmedCount'])\n",
    "s"
   ]
  },
  {
   "cell_type": "markdown",
   "metadata": {},
   "source": [
    "修改列名，看起来更加直观。"
   ]
  },
  {
   "cell_type": "code",
   "execution_count": 8,
   "metadata": {},
   "outputs": [
    {
     "data": {
      "text/html": [
       "<div>\n",
       "<style scoped>\n",
       "    .dataframe tbody tr th:only-of-type {\n",
       "        vertical-align: middle;\n",
       "    }\n",
       "\n",
       "    .dataframe tbody tr th {\n",
       "        vertical-align: top;\n",
       "    }\n",
       "\n",
       "    .dataframe thead th {\n",
       "        text-align: right;\n",
       "    }\n",
       "</style>\n",
       "<table border=\"1\" class=\"dataframe\">\n",
       "  <thead>\n",
       "    <tr style=\"text-align: right;\">\n",
       "      <th></th>\n",
       "      <th>城市</th>\n",
       "      <th>确诊</th>\n",
       "      <th>疑似</th>\n",
       "      <th>观察</th>\n",
       "    </tr>\n",
       "  </thead>\n",
       "  <tbody>\n",
       "    <tr>\n",
       "      <th>0</th>\n",
       "      <td>温州</td>\n",
       "      <td>496</td>\n",
       "      <td>159</td>\n",
       "      <td>337</td>\n",
       "    </tr>\n",
       "    <tr>\n",
       "      <th>1</th>\n",
       "      <td>宁波</td>\n",
       "      <td>153</td>\n",
       "      <td>35</td>\n",
       "      <td>118</td>\n",
       "    </tr>\n",
       "    <tr>\n",
       "      <th>2</th>\n",
       "      <td>杭州</td>\n",
       "      <td>165</td>\n",
       "      <td>69</td>\n",
       "      <td>96</td>\n",
       "    </tr>\n",
       "    <tr>\n",
       "      <th>3</th>\n",
       "      <td>台州</td>\n",
       "      <td>144</td>\n",
       "      <td>52</td>\n",
       "      <td>92</td>\n",
       "    </tr>\n",
       "    <tr>\n",
       "      <th>4</th>\n",
       "      <td>嘉兴</td>\n",
       "      <td>42</td>\n",
       "      <td>10</td>\n",
       "      <td>32</td>\n",
       "    </tr>\n",
       "    <tr>\n",
       "      <th>5</th>\n",
       "      <td>金华</td>\n",
       "      <td>55</td>\n",
       "      <td>24</td>\n",
       "      <td>31</td>\n",
       "    </tr>\n",
       "    <tr>\n",
       "      <th>6</th>\n",
       "      <td>绍兴</td>\n",
       "      <td>42</td>\n",
       "      <td>16</td>\n",
       "      <td>26</td>\n",
       "    </tr>\n",
       "    <tr>\n",
       "      <th>7</th>\n",
       "      <td>衢州</td>\n",
       "      <td>21</td>\n",
       "      <td>8</td>\n",
       "      <td>13</td>\n",
       "    </tr>\n",
       "    <tr>\n",
       "      <th>8</th>\n",
       "      <td>丽水</td>\n",
       "      <td>17</td>\n",
       "      <td>10</td>\n",
       "      <td>7</td>\n",
       "    </tr>\n",
       "    <tr>\n",
       "      <th>9</th>\n",
       "      <td>湖州</td>\n",
       "      <td>10</td>\n",
       "      <td>4</td>\n",
       "      <td>6</td>\n",
       "    </tr>\n",
       "    <tr>\n",
       "      <th>10</th>\n",
       "      <td>舟山</td>\n",
       "      <td>10</td>\n",
       "      <td>5</td>\n",
       "      <td>5</td>\n",
       "    </tr>\n",
       "  </tbody>\n",
       "</table>\n",
       "</div>"
      ],
      "text/plain": [
       "    城市   确诊   疑似   观察\n",
       "0   温州  496  159  337\n",
       "1   宁波  153   35  118\n",
       "2   杭州  165   69   96\n",
       "3   台州  144   52   92\n",
       "4   嘉兴   42   10   32\n",
       "5   金华   55   24   31\n",
       "6   绍兴   42   16   26\n",
       "7   衢州   21    8   13\n",
       "8   丽水   17   10    7\n",
       "9   湖州   10    4    6\n",
       "10  舟山   10    5    5"
      ]
     },
     "execution_count": 8,
     "metadata": {},
     "output_type": "execute_result"
    }
   ],
   "source": [
    "s1 = s.rename(columns = {'cityName':'城市','cityName':'城市','confirmedCount':'确诊',\n",
    "                         'curedCount':'疑似','currentConfirmedCount':'观察'})\n",
    "s1"
   ]
  },
  {
   "cell_type": "code",
   "execution_count": 9,
   "metadata": {},
   "outputs": [
    {
     "data": {
      "text/html": [
       "<div>\n",
       "<style scoped>\n",
       "    .dataframe tbody tr th:only-of-type {\n",
       "        vertical-align: middle;\n",
       "    }\n",
       "\n",
       "    .dataframe tbody tr th {\n",
       "        vertical-align: top;\n",
       "    }\n",
       "\n",
       "    .dataframe thead th {\n",
       "        text-align: right;\n",
       "    }\n",
       "</style>\n",
       "<table border=\"1\" class=\"dataframe\">\n",
       "  <thead>\n",
       "    <tr style=\"text-align: right;\">\n",
       "      <th></th>\n",
       "      <th>城市</th>\n",
       "      <th>确诊</th>\n",
       "      <th>疑似</th>\n",
       "      <th>观察</th>\n",
       "    </tr>\n",
       "  </thead>\n",
       "  <tbody>\n",
       "    <tr>\n",
       "      <th>0</th>\n",
       "      <td>温州</td>\n",
       "      <td>496</td>\n",
       "      <td>159</td>\n",
       "      <td>337</td>\n",
       "    </tr>\n",
       "    <tr>\n",
       "      <th>2</th>\n",
       "      <td>杭州</td>\n",
       "      <td>165</td>\n",
       "      <td>69</td>\n",
       "      <td>96</td>\n",
       "    </tr>\n",
       "    <tr>\n",
       "      <th>1</th>\n",
       "      <td>宁波</td>\n",
       "      <td>153</td>\n",
       "      <td>35</td>\n",
       "      <td>118</td>\n",
       "    </tr>\n",
       "    <tr>\n",
       "      <th>3</th>\n",
       "      <td>台州</td>\n",
       "      <td>144</td>\n",
       "      <td>52</td>\n",
       "      <td>92</td>\n",
       "    </tr>\n",
       "    <tr>\n",
       "      <th>5</th>\n",
       "      <td>金华</td>\n",
       "      <td>55</td>\n",
       "      <td>24</td>\n",
       "      <td>31</td>\n",
       "    </tr>\n",
       "    <tr>\n",
       "      <th>4</th>\n",
       "      <td>嘉兴</td>\n",
       "      <td>42</td>\n",
       "      <td>10</td>\n",
       "      <td>32</td>\n",
       "    </tr>\n",
       "    <tr>\n",
       "      <th>6</th>\n",
       "      <td>绍兴</td>\n",
       "      <td>42</td>\n",
       "      <td>16</td>\n",
       "      <td>26</td>\n",
       "    </tr>\n",
       "    <tr>\n",
       "      <th>7</th>\n",
       "      <td>衢州</td>\n",
       "      <td>21</td>\n",
       "      <td>8</td>\n",
       "      <td>13</td>\n",
       "    </tr>\n",
       "    <tr>\n",
       "      <th>8</th>\n",
       "      <td>丽水</td>\n",
       "      <td>17</td>\n",
       "      <td>10</td>\n",
       "      <td>7</td>\n",
       "    </tr>\n",
       "    <tr>\n",
       "      <th>9</th>\n",
       "      <td>湖州</td>\n",
       "      <td>10</td>\n",
       "      <td>4</td>\n",
       "      <td>6</td>\n",
       "    </tr>\n",
       "    <tr>\n",
       "      <th>10</th>\n",
       "      <td>舟山</td>\n",
       "      <td>10</td>\n",
       "      <td>5</td>\n",
       "      <td>5</td>\n",
       "    </tr>\n",
       "  </tbody>\n",
       "</table>\n",
       "</div>"
      ],
      "text/plain": [
       "    城市   确诊   疑似   观察\n",
       "0   温州  496  159  337\n",
       "2   杭州  165   69   96\n",
       "1   宁波  153   35  118\n",
       "3   台州  144   52   92\n",
       "5   金华   55   24   31\n",
       "4   嘉兴   42   10   32\n",
       "6   绍兴   42   16   26\n",
       "7   衢州   21    8   13\n",
       "8   丽水   17   10    7\n",
       "9   湖州   10    4    6\n",
       "10  舟山   10    5    5"
      ]
     },
     "execution_count": 9,
     "metadata": {},
     "output_type": "execute_result"
    }
   ],
   "source": [
    "# 按照确诊数字大小重新排序\n",
    "s1=s1.sort_values(by='确诊',ascending = False)\n",
    "s1"
   ]
  },
  {
   "cell_type": "markdown",
   "metadata": {},
   "source": [
    "## 3.呈现数据\n",
    "\n",
    "用matplotlib画出图表。"
   ]
  },
  {
   "cell_type": "code",
   "execution_count": 11,
   "metadata": {},
   "outputs": [
    {
     "data": {
      "image/png": "[encoded data removed]",
      "text/plain": [
       "<Figure size 432x288 with 1 Axes>"
      ]
     },
     "metadata": {
      "needs_background": "light"
     },
     "output_type": "display_data"
    }
   ],
   "source": [
    "import matplotlib.pyplot as plt\n",
    "plt.rcParams['font.sans-serif'] = ['SimHei']  # 用来正常显示中文标签\n",
    "plt.rcParams['axes.unicode_minus'] = False    # 用来正常显示负号\n",
    "%matplotlib inline\n",
    "fig = plt.figure()\n",
    "plt.title('浙江省肺炎感染人数统计（'+ str(ptime) +'）')\n",
    "x=s1.loc[:,'城市']\n",
    "y=s1.loc[:,'确诊']\n",
    "plt.bar(x,y,color='r', linewidth=3)\n",
    "plt.show()"
   ]
  },
  {
   "cell_type": "markdown",
   "metadata": {},
   "source": [
    "## 4.个性化展示\n",
    "\n",
    "调用百度语音，播报数据。"
   ]
  },
  {
   "cell_type": "code",
   "execution_count": null,
   "metadata": {},
   "outputs": [],
   "source": []
  }
 ],
 "metadata": {
  "kernelspec": {
   "display_name": "Python 3",
   "language": "python",
   "name": "python3"
  },
  "language_info": {
   "codemirror_mode": {
    "name": "ipython",
    "version": 3
   },
   "file_extension": ".py",
   "mimetype": "text/x-python",
   "name": "python",
   "nbconvert_exporter": "python",
   "pygments_lexer": "ipython3",
   "version": "3.5.2"
  }
 },
 "nbformat": 4,
 "nbformat_minor": 2
}
