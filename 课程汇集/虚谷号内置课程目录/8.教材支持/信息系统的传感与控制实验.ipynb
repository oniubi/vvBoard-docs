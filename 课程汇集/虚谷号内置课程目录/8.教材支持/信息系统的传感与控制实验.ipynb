{
 "cells": [
  {
   "cell_type": "markdown",
   "metadata": {},
   "source": [
    "# 信息系统的传感与控制实验"
   ]
  },
  {
   "attachments": {},
   "cell_type": "markdown",
   "metadata": {},
   "source": [
    "高中信息技术新课程中的必修模块2“信息系统与社会“，包括“信息社会特征”“信息系统组成与应用”“信息安全与信息社会责任”三部分内容，强调学生利用信息系统解决问题的过程与方法，提升学生信息安全和社会责任意识。其中关于“传感与控制”的部分描述如下：\n",
    "\n",
    "2.3 通过分析物联网应用实例，知道信息系统与外部世界的连接方式，了解常见的传感与控制机制。\n",
    "\n",
    "为了帮助Python的初学者编写传感与控制方面的代码，虚谷号提供了名为“xugu”的Python库。这个库中有Pin（引脚）、Servo（舵机）和SerialMgt（串口）几个常用的类。借助这个库，几行代码就能完成基本的输入输出控制，即GPIO（General-purpose input/output）。\n"
   ]
  },
  {
   "cell_type": "markdown",
   "metadata": {},
   "source": [
    "## 数字输入\n",
    "\n",
    "1.实验目标\n",
    "\n",
    "能编程读取开源硬件的指定引脚的数字电平状态，通过常见的数字传感器（开关量传感器）获取物理世界的各种环境信息。\n",
    "\n",
    "2.实验器材\n",
    "\t- 虚谷号 * 1；\n",
    "\t- 虚谷号厚物扩展板 * 1，或者Arduino UNO扩展板 * 1；\n",
    "\t- 按钮传感器 * 1。\n",
    "3.装置搭建\n",
    "将扩展板插入虚谷号，然后把按钮传感器接到扩展板D4。"
   ]
  },
  {
   "cell_type": "code",
   "execution_count": null,
   "metadata": {},
   "outputs": [],
   "source": [
    "from xugu import Pin # 从 xugu 库中导入 Pin类\n",
    "import time # 导入时间模块\n",
    "p = Pin(4, Pin.IN) \n",
    "while True:\n",
    "    value=p.read_digital() # 读取 4 号引脚电平信息,赋值给 value\n",
    "    print(value) # 将value的值打印到终端上\n",
    "    time.sleep(0.1) # 持续100ms"
   ]
  },
  {
   "cell_type": "markdown",
   "metadata": {},
   "source": [
    "**注**：运行上面程序后，如果要中止程序运行新的程序，需先选择上方“服务”->再选择“重启 & 清空输出”，才可以继续运行新程序。"
   ]
  },
  {
   "cell_type": "markdown",
   "metadata": {},
   "source": [
    "## 模拟输入\n",
    "\n",
    "1.实验目标\n",
    "\n",
    "能编程读取开源硬件的指定引脚的模拟电平状态，通过常见的模拟传感器获取物理世界的各种环境信息。\n",
    "\n",
    "2.实验器材\n",
    "\t- 虚谷号 * 1；\n",
    "\t- 虚谷号厚物扩展板 * 1，或者Arduino UNO扩展板 * 1；\n",
    "\t- 光线传感器 * 1 。\n",
    "3.装置搭建\n",
    "\n",
    "将扩展板插入虚谷号，然后把光线传感器接到扩展板A0。"
   ]
  },
  {
   "cell_type": "code",
   "execution_count": null,
   "metadata": {},
   "outputs": [],
   "source": [
    "from xugu import Pin # 从 xugu 库中导入 Pin类\n",
    "import time # 导入时间模块\n",
    "p = Pin(\"A0\", Pin.ANALOG) \n",
    "while True:\n",
    "    value=p.read_analog() # 读取 A0 号引脚电平信息,赋值给 value\n",
    "    print(value) # 将value的值打印到终端上\n",
    "    time.sleep(0.1) # 持续100ms"
   ]
  },
  {
   "cell_type": "markdown",
   "metadata": {},
   "source": [
    "## 数字输出\n",
    "\n",
    "1.实验目标\n",
    "\n",
    "能编程控制开源硬件的指定引脚输出高低电平信号，能够控制LED的开和关。\n",
    "\n",
    "2.实验器材\n",
    "\n",
    "- 虚谷号 * 1；\n",
    "- 虚谷号厚物扩展板 * 1，或者Arduino UNO扩展板 * 1；\n",
    "- LED * 1。\n",
    "\n",
    "3.装置搭建\n",
    "\n",
    "将扩展板插入虚谷号，然后把舵机接到D6。"
   ]
  },
  {
   "cell_type": "code",
   "execution_count": null,
   "metadata": {},
   "outputs": [],
   "source": [
    "from xugu import Pin # 从 xugu 库中导入 Pin 类\n",
    "led = Pin(6, Pin.OUT) # 初始化 Pin 类"
   ]
  },
  {
   "cell_type": "code",
   "execution_count": null,
   "metadata": {},
   "outputs": [],
   "source": [
    "# 输出高电平\n",
    "led.write_digital(1) "
   ]
  },
  {
   "cell_type": "code",
   "execution_count": null,
   "metadata": {},
   "outputs": [],
   "source": [
    "# 输出低电平\n",
    "led.write_digital(0) # 低电平"
   ]
  },
  {
   "cell_type": "markdown",
   "metadata": {},
   "source": [
    "## 模拟输出\n",
    "\n",
    "1.实验目标\n",
    "\n",
    "能编程控制开源硬件的指定引脚输出高低电平信号，能够以PMW的方式调节LED灯的亮度。\n",
    "\n",
    "2.实验器材\n",
    "\n",
    "- 虚谷号 * 1；\n",
    "- 虚谷号厚物扩展板 * 1，或者Arduino UNO扩展板 * 1；\n",
    "- LED * 1。\n",
    "\n",
    "3.装置搭建\n",
    "\n",
    "将扩展板插入虚谷号，然后把LED接到D6。"
   ]
  },
  {
   "cell_type": "code",
   "execution_count": null,
   "metadata": {},
   "outputs": [],
   "source": [
    "from xugu import Pin  # 从xugu库中导入Pin类\n",
    "p = Pin(6, Pin.OUT)"
   ]
  },
  {
   "cell_type": "code",
   "execution_count": null,
   "metadata": {},
   "outputs": [],
   "source": [
    "#给引脚设置模拟值128\n",
    "p.write_analog(128)"
   ]
  },
  {
   "cell_type": "code",
   "execution_count": null,
   "metadata": {},
   "outputs": [],
   "source": [
    "#给引脚设置模拟值255\n",
    "p.write_analog(255)"
   ]
  },
  {
   "attachments": {},
   "cell_type": "markdown",
   "metadata": {},
   "source": [
    "## 舵机控制\n",
    "\n",
    "1.实验目标\n",
    "\n",
    "能编程控制开源硬件的指定引脚输出高低电平信号，能够驱动舵机旋转到指定的角度。\n",
    "\n",
    "2.实验器材\n",
    "\t- 虚谷号 * 1；\n",
    "\t- 虚谷号厚物扩展板 * 1，或者Arduino UNO扩展板 * 1；\n",
    "\t- 180度舵机 * 1。\n",
    "3.装置搭建\n",
    "\n",
    "将扩展板插入虚谷号，然后把舵机接到D4。\n",
    "\n",
    "注意：180度的舵机往往不能真正旋转到180度，请尽量不要旋转到0或者180。如果发现舵机发出因卡住而抖动的声音，要第一时间断电或者从引脚上拔出。"
   ]
  },
  {
   "cell_type": "code",
   "execution_count": null,
   "metadata": {},
   "outputs": [],
   "source": [
    "from xugu import Servo\n",
    "servo = Servo(4)"
   ]
  },
  {
   "cell_type": "code",
   "execution_count": null,
   "metadata": {},
   "outputs": [],
   "source": [
    "#设置舵机旋转到150°\n",
    "servo. write_angle(150)"
   ]
  },
  {
   "cell_type": "code",
   "execution_count": null,
   "metadata": {},
   "outputs": [],
   "source": [
    "#设置舵机旋转到10°\n",
    "servo. write_angle(10)"
   ]
  }
 ],
 "metadata": {
  "kernelspec": {
   "display_name": "Python 3",
   "language": "python",
   "name": "python3"
  },
  "language_info": {
   "codemirror_mode": {
    "name": "ipython",
    "version": 3
   },
   "file_extension": ".py",
   "mimetype": "text/x-python",
   "name": "python",
   "nbconvert_exporter": "python",
   "pygments_lexer": "ipython3",
   "version": "3.5.2"
  }
 },
 "nbformat": 4,
 "nbformat_minor": 2
}
