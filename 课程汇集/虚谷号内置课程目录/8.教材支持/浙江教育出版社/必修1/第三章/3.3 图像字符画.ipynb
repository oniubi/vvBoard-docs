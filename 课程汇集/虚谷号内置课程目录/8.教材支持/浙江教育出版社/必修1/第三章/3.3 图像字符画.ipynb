{
 "cells": [
  {
   "cell_type": "markdown",
   "metadata": {},
   "source": [
    "# 3.3 图像字符画"
   ]
  },
  {
   "cell_type": "markdown",
   "metadata": {},
   "source": [
    "这是浙江教育出版社高中信息技术教材必修1《数据与计算》3.3实践与体验活动。\n",
    "\n",
    "活动主题：用纯文字制作出字符画\n",
    "\n",
    "因为原代码不够精简，也没有说明清楚，特意做了修改。"
   ]
  },
  {
   "cell_type": "markdown",
   "metadata": {},
   "source": [
    "## 1. 导入库，设置参数\n",
    "\n",
    "按照字符的“视觉亮度”（可以理解为打印字符需要的墨粉），添加不同的字符。字符越多，效果将更好。\n",
    "\n",
    "为达到更好显示效果，确定一行100字符。"
   ]
  },
  {
   "cell_type": "code",
   "execution_count": 1,
   "metadata": {},
   "outputs": [],
   "source": [
    "from PIL import Image\n",
    "char_pix=['@','#','$','%','&','?','*','o','/','{','[','(','|',\n",
    "        '!','^','~','-','_',':',';',',','.','`',' ']\n",
    "count=len(char_pix)\n",
    "width = 100"
   ]
  },
  {
   "cell_type": "markdown",
   "metadata": {},
   "source": [
    "## 2. 编写函数\n",
    "\n",
    "默认img为灰度模式，数据范围为“0-255”。"
   ]
  },
  {
   "cell_type": "code",
   "execution_count": 2,
   "metadata": {},
   "outputs": [],
   "source": [
    "def toText(img):\n",
    "    t = ''                                   # 储存字符串\n",
    "    pix = img.load()\n",
    "    for h in range(height):          # 垂直方向\n",
    "        for w in range(width):    # 水平方向\n",
    "            gray = pix[w,h]\n",
    "            t = t + char_pix[int(gray/(255/(count-1)))]\n",
    "        t =t + '\\r\\n'\n",
    "    return t"
   ]
  },
  {
   "cell_type": "markdown",
   "metadata": {},
   "source": [
    "## 3. 处理图片\n",
    "\n",
    "打开图片。\n",
    "\n",
    "在jupyter中，用“img”可以直接显示图片，真实代码中要去除。"
   ]
  },
  {
   "cell_type": "code",
   "execution_count": 3,
   "metadata": {},
   "outputs": [],
   "source": [
    "img = Image.open(\"boy.jpg\")            # 打开图片"
   ]
  },
  {
   "cell_type": "markdown",
   "metadata": {},
   "source": [
    "计算图片要缩放的大小，并按照比例缩放。注意，resize中的参数写法，width和height放在一个元组中。"
   ]
  },
  {
   "cell_type": "code",
   "execution_count": 4,
   "metadata": {},
   "outputs": [
    {
     "data": {
      "image/png": "[encoded data removed]",
      "text/plain": [
       "<PIL.Image.Image image mode=RGB size=100x82 at 0x112562310>"
      ]
     },
     "execution_count": 4,
     "metadata": {},
     "output_type": "execute_result"
    }
   ],
   "source": [
    "height = int(img.size[1]/(img.size[0]/width))\n",
    "img = img.resize((width,height))    # 按比例缩放\n",
    "img"
   ]
  },
  {
   "cell_type": "markdown",
   "metadata": {},
   "source": [
    "转为灰度模式。"
   ]
  },
  {
   "cell_type": "code",
   "execution_count": 5,
   "metadata": {},
   "outputs": [
    {
     "data": {
      "image/png": "[encoded data removed]",
      "text/plain": [
       "<PIL.Image.Image image mode=L size=100x82 at 0x112A365D0>"
      ]
     },
     "execution_count": 5,
     "metadata": {},
     "output_type": "execute_result"
    }
   ],
   "source": [
    "img=img.convert('L') #以灰度模式\n",
    "img"
   ]
  },
  {
   "cell_type": "markdown",
   "metadata": {},
   "source": [
    "## 4. 转换为字符\n",
    "\n",
    "转换为字符，并输出。"
   ]
  },
  {
   "cell_type": "code",
   "execution_count": 6,
   "metadata": {},
   "outputs": [
    {
     "name": "stdout",
     "output_type": "stream",
     "text": [
      "                              ` ``[!` `  `                                                          \n",
      "                            ```?&///{o&```                                                          \n",
      "                         `  `??oo/{[{{[[{-```                                                       \n",
      "                         ```??oo/[[{{{[[[[- `                                                       \n",
      "                          `o*/ooo[{{[[{[({[[`                                                       \n",
      "                         `/**/ooo{{{{{{[[{{[{`                                                      \n",
      "                         /?|(*o/o[{{[o&&%&o[{!`                                                     \n",
      "                       `:?:_.(ooo/[{{#&$&&&o[/`                                                     \n",
      "                      ``&?/:`oo//oo{{#?#&&&$//`                                                     \n",
      "                      ` *?[*??**ooooo&????%&o/                                                      \n",
      "                      ``?*?o//???&%$&o//o//%*/|                                                     \n",
      "                      ``??*&%(-^#&#!-??#??ooo*&                                                     \n",
      "                    ` `:?#@?*~--:;;_:?&^^$$&oo%                                                     \n",
      "                    ` *$@&&&:-;::~_:_@-~{#%#%%|                                                     \n",
      "                    ?*{~@$&&_:;/.`:;;_::|!&%$#!                                                     \n",
      "                 ``**o---#%&-:[.,|({::::;_#-&{?```                                                  \n",
      "                 `~o/o-^^*#&::%..$#/::::;_$/;:#,                                                    \n",
      "                ` ooo*-~(-#|_:%|#@@?;::::_~`$~`                                                     \n",
      "                `??//o/_~~!^:::/##/:;:::!#$|-!                                                      \n",
      "               ` ?{/o//o-!--;;:;::;;;:::@##;(!`                                                     \n",
      "                 `/&o//oo(~-::::::::::::!#$~{-`                                                     \n",
      "                 ``` ``{//---::::::::--;;_,:!,                                                      \n",
      "                         `%_-;:::^(-::;::;_:`                                     `                 \n",
      "                         ``.-_::_-&|;{[:_::_                                     `,...,,.:` `       \n",
      "                         ```_-:::::%%o[?;:_``                                   ,```````.,..`       \n",
      "                           ``_-:::::-!::::. `              ` ;-`          `   ````````````.,,o  `   \n",
      "                           `` [__::;_::::|` `              `:_!_            `;``$%#/.``````..?%     \n",
      "                            ``-|!___:;__o??ooo/?` `    ``` ;;|-::;`         ,..|%%%%?^`.````.?$$    \n",
      "                          ``**{!^~|!!|-:____:~:~__::..   `,:-^-!(:         `,``%%%%%%%%-_::::o$$/ ` \n",
      "                     `  `;~{&*?~~~--/-_______-o-|::::::::!:-~--|-~:        .``%%%%%%%%%.````._@#$(  \n",
      "                     `` !^*/[%**/~~*/_________!_^::::::::~-~!~~-:(        ,,``%%%%%%%%%``````,^$#$  \n",
      "                    ` ,-**/_:;[o/?{?*_______-__--________------!.:`     ``...^&%%%%%%%%``````,;,$$  \n",
      "                   ``:-*%_____-~%o/oo_____--^~~!:~----~----~^-(_,         ,.``%%%%%%%%%``````,,,,&` \n",
      "                   !~o**______-_--_-________!~~(~----~^^-;`^, `   `      ,,,``|%%%%%%%%``````,,,,-- \n",
      "                ` !{**______________________|^~!;`                      `,,,```-%%%%%%_,``.``,.,,~, \n",
      "               ` `oo:[______________________~,` ``                       :,,.```-&%%_```^````,,,.^, \n",
      "               `-::________~______________-_~ ````                      `_,,,```.!```````;.`.,.,@#; \n",
      "          `` `,;::_--_(_-~^~________________~(                           ,,.,,```^```````._,.:#$$#^ \n",
      "          ``-;,;::::^:^-~^^~________________~~`                          `^;,,,``,```````.,^,$@$$#` \n",
      "     ` ` ` ::::::::-{__~~^-^~_______________~~`                          ``,;,,,`````````,,.#$###@  \n",
      "     ` ```;::::;_-~-^_~^~[_~^______________-^~`                           .~^..,.,.````,,..,######  \n",
      "       _:::_:_~----~,~|``` ^^^___________-^~~~`                            @$###@.,,,,,,,;,*#####   \n",
      "   `` ,::::---~~-~```   `  -^^-______-__~^~^~~(`                          `/#####?,,,,,,,,,###@@_   \n",
      "  ``,;_:_---~_~` `         `^~~________~^^~~-~~  `                          @#####.,,,,,,,,@##@@    \n",
      "` `_::;-~~,`               `^^~______~^-______~{`                            @@####`,,,,,,,@#@$     \n",
      " `;_:_:[ ```               `~~^_____-________-_!``                            *$@#$#:::~^.,;, ` `   \n",
      "``;:~-:^` ``               `[^^-______________--^`                           `  #@#:,,,,,,.`   `    \n",
      " ^:~|{;^ `                  `~^~________--^~o?*o[!`` `                          `  :.,..,           \n",
      "`;-[- :_ `                   ~^~______:-^|?o/o&-~-::`                                   `  `        \n",
      "`;[[-` ~``                 ` ~^^___:-~-&*ooooo~--:::_`        ``` ``                                \n",
      "`-|`! ````                 ``^^^-__^^*o/oooooo~-_:::;;         &??*``                               \n",
      "`````  `                     ^~^^_^&oooooooooo--_::::;`        `%?&-                                \n",
      "                            `(~~^(*ooooooooo*o--_:::::,````  `?``?{%&                               \n",
      "                             `~!??*oooooooo(``~--:::;:{^. ` ?`&`[[%$%                               \n",
      "                               ?:&*oooooo^,;*?----;:;(:((/``*`.`{o&?%                               \n",
      "                              `%`&?*oo*(,;o???(---~::[![({.`([`[{&&%%.`                             \n",
      "                              `%?;{o/:.-*??*?*-!----[([[{-`.,.`{o%&&&                               \n",
      "                               `*?o[/????????*[*?;~~o-{{(````..{%%%%`                               \n",
      "                                ????**?*?????&??*``!o:{/``.``.?$&&&#`                               \n",
      "                                `**???????????%.`   ~({|..``.|{%&&&                                 \n",
      "                                `&????????????````  ``{;,,,;.{*&%&                                  \n",
      "                                ` &**???*&&???`       `,.,,,o[&%&                                   \n",
      "                                ``%&??&&%%????         ..,,!o$%$` `                                 \n",
      "                                ``_&&&&&&????{`       ``;,,[%%%&                                    \n",
      "                         ` ````;/---(%&&??*??`            `[%?$`                                    \n",
      "                         `..;{[,/---~-*?*??*` `          ` {&%%                                     \n",
      "                      ` `,,`{{{;/~~-_:::---                                                         \n",
      "                        .,,`/{{`[:;:::::_-``                                                        \n",
      "                       {,,.`![[![:::::::;` ``                                                       \n",
      "                    ` -{,,.``[[[:/;_~,``                                                            \n",
      "                     `%{,,.`.`-//*(`  ``                                                            \n",
      "                      ?{_..```,(     `                   `                                          \n",
      "                       &{.,`_%.`.``  ``````;;;;;;;;;;;;;;;;````                                     \n",
      "                      `${,,,``o*&&_:;;;:;;;;;;;:;;;;::;;;;;;;;;;:;``                                \n",
      "                      ``[~.,``?``-:;;;;;;;;;;:;;;;;;;;;;;;;;;;;;;;;::`                              \n",
      "                      ` |[.....``~;;;;;;;;;;;:;;;;;;;;;;;;;;;;;;;;;:;:;`                            \n",
      "                    ` :;~{{,;.`%??&;:;;;;;;;;;;:;;;;;;;;;;;;;;;;;;:;;:;`                            \n",
      "                     `;;~%//.,{*??*:;;;;;;;;;;;:;;;;;;;;;;;;;;;;;;::;` `                            \n",
      "                     ```::#{&??*&*:;:;;;;;;;;;;:;;;;;;;;;;;;;;;;:``    `                            \n",
      "                         ;_;**&(_:,;;;;;;;;;;;;;;;;;;;;;;:;;;``                                     \n",
      "                       `    ` ```:;;;;;;;;;;;;;;;;;;````                                            \n",
      "                                                                                                    \n",
      "\n"
     ]
    }
   ],
   "source": [
    "s = toText(img)\n",
    "print(s)"
   ]
  },
  {
   "cell_type": "markdown",
   "metadata": {},
   "source": [
    "输出到一个新文件。"
   ]
  },
  {
   "cell_type": "code",
   "execution_count": 7,
   "metadata": {},
   "outputs": [],
   "source": [
    "tmp=open('boy.txt','w')\n",
    "tmp.write(s)\n",
    "tmp.close()"
   ]
  },
  {
   "cell_type": "code",
   "execution_count": null,
   "metadata": {},
   "outputs": [],
   "source": []
  }
 ],
 "metadata": {
  "kernelspec": {
   "display_name": "Python 3",
   "language": "python",
   "name": "python3"
  },
  "language_info": {
   "codemirror_mode": {
    "name": "ipython",
    "version": 3
   },
   "file_extension": ".py",
   "mimetype": "text/x-python",
   "name": "python",
   "nbconvert_exporter": "python",
   "pygments_lexer": "ipython3",
   "version": "3.7.4"
  }
 },
 "nbformat": 4,
 "nbformat_minor": 4
}
