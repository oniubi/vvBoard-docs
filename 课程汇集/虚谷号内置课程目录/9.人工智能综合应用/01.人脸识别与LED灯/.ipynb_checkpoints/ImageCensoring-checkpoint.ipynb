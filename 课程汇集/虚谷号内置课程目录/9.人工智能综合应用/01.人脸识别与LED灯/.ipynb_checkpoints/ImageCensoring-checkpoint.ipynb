{
 "cells": [
  {
   "cell_type": "code",
   "execution_count": null,
   "metadata": {},
   "outputs": [],
   "source": []
  },
  {
   "cell_type": "markdown",
   "metadata": {},
   "source": [
    "# 猜猜我的明星脸"
   ]
  },
  {
   "cell_type": "raw",
   "metadata": {},
   "source": [
    "# 本范例的具体介绍请参考百度AI的文档。https://ai.baidu.com/docs#/ImageCensoring-Python-SDK/66b47ad7"
   ]
  },
  {
   "cell_type": "code",
   "execution_count": null,
   "metadata": {},
   "outputs": [],
   "source": [
    "第一步、导入库"
   ]
  },
  {
   "cell_type": "code",
   "execution_count": null,
   "metadata": {},
   "outputs": [],
   "source": [
    "from aip import AipImageCensor\n",
    "import json"
   ]
  },
  {
   "cell_type": "code",
   "execution_count": null,
   "metadata": {},
   "outputs": [],
   "source": [
    "第二步、设置认证信息\n",
    "\n",
    "注：这里用的是测试账号，有访问次数的限制，请使用自己的账号信息。"
   ]
  },
  {
   "cell_type": "code",
   "execution_count": null,
   "metadata": {},
   "outputs": [],
   "source": [
    "\"\"\" 你的 APPID AK SK \"\"\"\n",
    "APP_ID = '15469649'\n",
    "API_KEY = '3vZgLINSnGGEafPflkTLzkGh'\n",
    "SECRET_KEY = '8cUXtkMed2z86kqfyrV606ylnCmfcc48'"
   ]
  },
  {
   "cell_type": "code",
   "execution_count": null,
   "metadata": {},
   "outputs": [],
   "source": [
    "第三步、读取图片"
   ]
  },
  {
   "cell_type": "code",
   "execution_count": null,
   "metadata": {},
   "outputs": [],
   "source": [
    "def get_file_content(filePath):\n",
    "    with open(filePath, 'rb') as fp:\n",
    "        return fp.read()"
   ]
  },
  {
   "cell_type": "code",
   "execution_count": null,
   "metadata": {},
   "outputs": [],
   "source": [
    "第四步、调用接口"
   ]
  },
  {
   "cell_type": "code",
   "execution_count": null,
   "metadata": {},
   "outputs": [],
   "source": [
    "client = AipImageCensor(APP_ID, API_KEY, SECRET_KEY)\n",
    "result = client.imageCensorComb(get_file_content('luhan.jpg'),['public'])\n",
    "json_str = json.dumps(result,ensure_ascii=False)\n",
    "print(json_str)\n",
    "name = result['result']['public']['result'][0]['stars'][0]['name']\n",
    "probability = result['result']['public']['result'][0]['stars'][0]['probability']\n",
    "print('====================================================')\n",
    "print(f'您的撞脸明星是:{name},可信度为:{probability}')"
   ]
  }
 ],
 "metadata": {
  "kernelspec": {
   "display_name": "Python 3",
   "language": "python",
   "name": "python3"
  },
  "language_info": {
   "codemirror_mode": {
    "name": "ipython",
    "version": 3
   },
   "file_extension": ".py",
   "mimetype": "text/x-python",
   "name": "python",
   "nbconvert_exporter": "python",
   "pygments_lexer": "ipython3",
   "version": "3.5.2"
  }
 },
 "nbformat": 4,
 "nbformat_minor": 2
}
