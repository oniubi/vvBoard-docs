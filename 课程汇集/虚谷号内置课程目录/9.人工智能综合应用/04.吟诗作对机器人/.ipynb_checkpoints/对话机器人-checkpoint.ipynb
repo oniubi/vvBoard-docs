{
 "cells": [
  {
   "cell_type": "markdown",
   "metadata": {},
   "source": [
    "# 对话机器人"
   ]
  },
  {
   "cell_type": "raw",
   "metadata": {},
   "source": [
    "本范例的具体介绍请参考百度AI的文档。https://ai.baidu.com/docs#/ASR-Online-Python-SDK/f71dfc54"
   ]
  },
  {
   "cell_type": "raw",
   "metadata": {},
   "source": [
    "如果没有安装pyaudio,按照以下步骤安装\n",
    "\n",
    "#sudo apt-get install portaudio19-dev\n",
    "#sudo pip install --upgrade pyaudio"
   ]
  },
  {
   "cell_type": "raw",
   "metadata": {},
   "source": [
    "第一步、导入库"
   ]
  },
  {
   "cell_type": "code",
   "execution_count": null,
   "metadata": {},
   "outputs": [],
   "source": [
    "import pyaudio\n",
    "import wave\n",
    "from aip import AipSpeech"
   ]
  },
  {
   "cell_type": "raw",
   "metadata": {},
   "source": [
    "第二步、设置认证信息\n",
    "\n",
    "注：这里用的是测试账号，有访问次数的限制，请使用自己的账号信息。"
   ]
  },
  {
   "cell_type": "code",
   "execution_count": null,
   "metadata": {},
   "outputs": [],
   "source": [
    "\"\"\" 你的 APPID AK SK \"\"\"\n",
    "APP_ID = \"15126848\"\n",
    "API_KEY = \"BPaS8KCk1B6Io9EqEOw1pOH3\"\n",
    "SECRET_KEY = \"AL3B7XOmoRZojqFivCzvxuGYDDQZ7G58\""
   ]
  },
  {
   "cell_type": "raw",
   "metadata": {},
   "source": [
    "第三步、定义变量"
   ]
  },
  {
   "cell_type": "code",
   "execution_count": null,
   "metadata": {},
   "outputs": [],
   "source": [
    "CHUNK = 1024\n",
    "FORMAT = pyaudio.paInt16\n",
    "CHANNELS = 1\n",
    "RATE = 16000\n",
    "RECORD_SECONDS = 3\n",
    "client = AipSpeech(APP_ID, API_KEY, SECRET_KEY)"
   ]
  },
  {
   "cell_type": "raw",
   "metadata": {},
   "source": [
    "第四步、录音处理"
   ]
  },
  {
   "cell_type": "code",
   "execution_count": null,
   "metadata": {},
   "outputs": [],
   "source": [
    "def rec(file_name):\n",
    "    p = pyaudio.PyAudio()\n",
    "\n",
    "    stream = p.open(format=FORMAT,\n",
    "                    channels=CHANNELS,\n",
    "                    rate=RATE,\n",
    "                    input=True,\n",
    "                    frames_per_buffer=CHUNK)\n",
    "\n",
    "    print(\"开始录音,请说话...\")\n",
    "\n",
    "    frames = []\n",
    "\n",
    "    for i in range(0, int(RATE / CHUNK * RECORD_SECONDS)):\n",
    "        data = stream.read(CHUNK)\n",
    "        frames.append(data)\n",
    "\n",
    "    print(\"录音结束!\")\n",
    "\n",
    "    stream.stop_stream()\n",
    "    stream.close()\n",
    "    p.terminate()\n",
    "\n",
    "    wf = wave.open(file_name, 'wb')\n",
    "    wf.setnchannels(CHANNELS)\n",
    "    wf.setsampwidth(p.get_sample_size(FORMAT))\n",
    "    wf.setframerate(RATE)\n",
    "    wf.writeframes(b''.join(frames))\n",
    "    wf.close()\n",
    "    return file_name"
   ]
  },
  {
   "cell_type": "raw",
   "metadata": {},
   "source": [
    "第五步、将录音转化为文字"
   ]
  },
  {
   "cell_type": "code",
   "execution_count": null,
   "metadata": {},
   "outputs": [],
   "source": [
    "def audio_to_text(wav_file):\n",
    "    with open(wav_file, 'rb') as fp:\n",
    "        file_context = fp.read()\n",
    "    print(\"开始识别...\")\n",
    "    # 识别本地文件\n",
    "    res = client.asr(file_context, 'wav', 16000, {\n",
    "        'dev_pid': 1536,\n",
    "    })\n",
    "\n",
    "    res_str = res.get(\"result\")[0]\n",
    "\n",
    "    return res_str"
   ]
  },
  {
   "cell_type": "raw",
   "metadata": {},
   "source": [
    "第六步、打印出文字"
   ]
  },
  {
   "cell_type": "code",
   "execution_count": null,
   "metadata": {},
   "outputs": [],
   "source": [
    "ret_s = audio_to_text(\"1.wav\")\n",
    "print(ret_s)\n",
    "if '床前明月光' in ret_s:\n",
    "    print('疑是地上霜.')\n",
    "    result = client.synthesis('疑是地上霜.', 'zh', 1, {\n",
    "        'vol': 5,\n",
    "    })\n",
    "\n",
    "    # 识别正确返回语音二进制 错误则返回dict 参照下面错误码\n",
    "    if not isinstance(result, dict):\n",
    "        with open('auido.mp3', 'wb') as f:\n",
    "            f.write(result)\n",
    "    import os\n",
    "    os.system('auido.mp3')\n",
    "    ## 朗读疑是地上霜\n",
    "    # pip install playsound\n",
    "    #from playsound import playsound\n",
    "    #playsound('auido.mp3')\n"
   ]
  },
  {
   "cell_type": "code",
   "execution_count": null,
   "metadata": {},
   "outputs": [],
   "source": []
  }
 ],
 "metadata": {
  "kernelspec": {
   "display_name": "Python 3",
   "language": "python",
   "name": "python3"
  },
  "language_info": {
   "codemirror_mode": {
    "name": "ipython",
    "version": 3
   },
   "file_extension": ".py",
   "mimetype": "text/x-python",
   "name": "python",
   "nbconvert_exporter": "python",
   "pygments_lexer": "ipython3",
   "version": "3.5.2"
  }
 },
 "nbformat": 4,
 "nbformat_minor": 2
}
